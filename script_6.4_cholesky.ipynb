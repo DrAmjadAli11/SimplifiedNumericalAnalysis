{
 "cells": [
  {
   "cell_type": "code",
   "execution_count": 27,
   "id": "0082a75c",
   "metadata": {},
   "outputs": [
    {
     "name": "stdout",
     "output_type": "stream",
     "text": [
      "The L matrix is:\n",
      "0.6324555320336759              0.0              0.0               \n",
      "0.0              0.8              0.0               \n",
      "-0.18973665961010275              0.39999999999999997              0.6033241251599343               \n",
      "The required solution is:\n",
      "7.637362637362637           -4.395604395604395           13.791208791208792           "
     ]
    }
   ],
   "source": [
    "from numpy import *\t\t\t\t\n",
    "\t\t\t\t\t\t\t\t\t\t\t\t\t\t\t\t\n",
    "n = 3\t\t\t\t\t\t\t\t\t\n",
    "a = [[0.4, 0.0, 0.12], [0.0, 0.64, 0.32],[-0.12, 0.32, 0.56]]\n",
    "b = [1.4, 1.6, 5.4]\t\t\n",
    "x = zeros(n)\t\t\t\n",
    "y = zeros(n)\t\t\t\n",
    "l = zeros([n,n])\t\t\t\t\n",
    "l[0][0] = sqrt(a[0][0])\t\t\t\n",
    "\t\t\t\t\t\t\t\t\t\t\t\t\t\t\t\t\n",
    "for j in range(n):\t\t\t\t#Cholesky Method\n",
    "\t\tl[j][0] = a[j][0] / l[0][0]\t\t\n",
    "\t\t\t\t\t\t\t\t\t\t\t\t\t\t\t\t\n",
    "for i in range(1,n):\t\t\t\t\t\n",
    "\t\tsum=0\t\t\t\t\t\t\n",
    "\t\tfor k in range(i):\t\t\t\n",
    "\t\t\t\tsum = sum + l[i][k] * l[i][k]\n",
    "\t\tl[i][i] = a[i][i] - sum\t\n",
    "\t\tl[i][i] = sqrt(l[i][i])\n",
    "\t\tfor j in range(i+1,n):\t\t\n",
    "\t\t\t\tsum = 0\t\t\t\t\t\t\t\t\n",
    "\t\t\t\tfor k in range(i):\t\t\n",
    "\t\t\t\t\t\tsum = sum + l[i][k] * l[j][k]\n",
    "\t\t\t\tl[j][i] = ( a[j][i] - sum ) / l[i][i]\n",
    "\t\t\t\t\t\t\t\t\t\t\t\t\t\t\t\t\n",
    "#Forward substitution phase for solving LY=B\n",
    "y[0] = b[0] / l[0][0]\t\t\n",
    "for i in range(n):\t\t\t\t\t\t\n",
    "\t\tsum = 0\t\t\t\t\t\t\n",
    "\t\tfor j in  range(i):\t\t\t\t\t\n",
    "\t\t\t\tsum = sum + l[i][j] * y[j]\n",
    "\t\ty[i] = (b[i] - sum)/l[i][i]\t\t\n",
    "\t\t\t\t\t\t\t\t\t\t\t\t\t\t\t\t\n",
    "#Back substitution phase for solving L^t X = Y\n",
    "x[n-1] = y[n-1] / l[n-1][n-1]\n",
    "for i in reversed(range(n-1)):\n",
    "\t\tsum = 0\t\t\t\t\t\t\t\t\t\n",
    "\t\tfor j in range(i+1,n):\t\t\t\n",
    "\t\t\t\tsum = sum + (l[j][i] * x[j])\n",
    "\t\tx[i] = ( y[i] - sum )/l[i][i]\n",
    "\t\t\t\t\t\t\t\t\t\t\t\t\t\t\t\t\n",
    "print(\"The L matrix is:\") \t\t\t\t\t\n",
    "for i in range(n):\t\t\t\t\t\t\t\n",
    "\t\tfor j in range(n):\t\t\t\t\n",
    "\t\t\t\tprint(l[i][j], \"            \",end=\" \")\n",
    "\t\tprint(\" \")\t\t\t\t\t\t\t\n",
    "\t\t\t\t\t\t\t\t\t\t\t\t\t\t\t\t\n",
    "print(\"The required solution is:\")\n",
    "for i in range(n):\t\t\t\t\t\t\n",
    "\t\tprint(x[i], \"         \",end=\" \")\n"
   ]
  },
  {
   "cell_type": "code",
   "execution_count": null,
   "id": "99cff1a2",
   "metadata": {},
   "outputs": [],
   "source": []
  }
 ],
 "metadata": {
  "kernelspec": {
   "display_name": "Python 3 (ipykernel)",
   "language": "python",
   "name": "python3"
  },
  "language_info": {
   "codemirror_mode": {
    "name": "ipython",
    "version": 3
   },
   "file_extension": ".py",
   "mimetype": "text/x-python",
   "name": "python",
   "nbconvert_exporter": "python",
   "pygments_lexer": "ipython3",
   "version": "3.9.7"
  }
 },
 "nbformat": 4,
 "nbformat_minor": 5
}
