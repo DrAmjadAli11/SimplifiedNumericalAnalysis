{
 "cells": [
  {
   "cell_type": "code",
   "execution_count": 3,
   "id": "b260d625",
   "metadata": {},
   "outputs": [
    {
     "name": "stdout",
     "output_type": "stream",
     "text": [
      "Enter the initial approximation: 0\n",
      "iter.           xk               f(xk)                 Error\n",
      "1\t 0.2500000000000000\t-0.0366214574332184\t1.000000000000\n",
      "2\t 0.2599382850500705\t-0.0000759982664056\t0.038233248512\n",
      "3\t 0.2599589955313102\t-0.0000000003332497\t0.000079668262\n",
      "4\t 0.2599589956221257\t0.0000000000000000\t0.000000000349\n",
      "Required accuracy achieved; Solution is convergent.\n"
     ]
    }
   ],
   "source": [
    "from numpy import *\t\t\t\t\t\t\t\t\t\t\t\t\t\t\t\t\t\t\t\t\t\n",
    "N = 500                # setting the maximum number of iterations\t\t\t\t\t\t\t\t\t\t\t\n",
    "TOL = 0.000001        # setting the tolerance\t\t\t\t\t\t\t\t\t\t\t\t\t\n",
    "\t\t\t\t\t\t\t\t\t\t\t\t\t\t\t\t\t\t\t\t\t\t\t\t\t\t\t\t\t\t\t\t\t\t\n",
    "def fval(x):\t\t\t\t\t\t\t\t\t\t\t\t\t\t\t\t\t\t\t\t\t\t\t\t\t\t\t\n",
    "\t\ty = 4 * x + sin(x) - exp(x)\t\t\t\t\t\t\t\t\t\t\t\t\t\t\n",
    "\t\treturn (y)\t\t\t\t\t\t\t\t\t\t\t\t\t\t\t\t\t\t\t\t\t\t\t\t\t\t\n",
    "\t\t\t\t\t\t\t\t\t\t\t\t\t\t\t\t\t\t\t\t\t\t\t\t\t\t\t\t\t\t\t\t\t\t\n",
    "def dfval(x):\t\t\t\t\t\t\t\t\t\t\t\t\t\t\t\t\t\t\t\t\t\t\t\t\t\t\t\n",
    "\t\tdy = 4 + cos(x) - exp(x)\t\t\t\t\t\t\t\t\t\t\t\t\t\t\t\n",
    "\t\treturn (dy)\t\t\t\t\t\t\t\t\t\t\t\t\t\t\t\t\t\t\t\t\t\t\t\t\t\t\n",
    "\t\t\t\t\t\t\t\t\t\t\t\t\t\t\t\t\t\t\t\t\t\t\t\t\t\t\t\t\t\t\t\t\t\t\n",
    "x0 = float(input(\"Enter the initial approximation: \"))\t\t\t\n",
    "print(\"iter.           xk               f(xk)                 Error\")\t\t\t\t\t\t\t\t\t\t\t\t\n",
    "\t\t\t\t\t\t\t\t\t\t\t\t\t\t\t\t\t\t\t\t\t\t\t\t\t\t\t\t\t\t\t\t\t\t\n",
    "xk = x0 ;  fxk = fval(xk)\t\t\t\t\t\t\t\t\t\t\t\t\t\t\t\t\t\t\t\t\t\n",
    "for k in range(1,N+1):\t\t\t\t\t\t\t\t\t\t\t\t\t\t\t\t\t\t\t\n",
    "\t\txp = xk\t\t\t\t\t\t\t\t\t\t\t\t\t\t\t\t\t\t\t\t\t\t\t\t\n",
    "\t\tfxp = fxk\t\t\t\t\t\t\t\t\t\t\t\t\t\t\t\t\t\t\t\t\t\t\n",
    "\t\tdfxp = dfval(xp)\t\t\t\t\t\t\t\t\t\t\t\t\t\t\t\t\t\t\t\t\t\t\n",
    "\t\txk = xp - (fxp/dfxp)\t\t\t\t\t\t\t\t\t\t\t\t\t\t\t\t\t\t\t\t\t\t\n",
    "\t\t\t\t\t\t\t\t\t\t\t\t\t\t\t\t\t\t\t\t\t\t\t\t\t\n",
    "\t\tfxk = fval(xk)\t\t\t\t\t\t\t\t\t\t\t\t\t\t\t\t\t\t\t\t\t\t\t\n",
    "\t\t\t\t\t\t\t\t\t\t\t\t\t\t\t\t\t\t\t\t\t\t\t\t\t\t\t\t\t\t\t\t\t\t\n",
    "\t\terr = abs(xk - xp)/abs(xk)\t\t\t\t\t\t\t\t\t\t\t\t\t\t\t\t\t\t\n",
    "\t\t\t\t\t\t\t\t\t\t\t\t\t\t\t\t\t\t\t\t\t\t\t\t\t\t\t\t\t\t\t\t\t\t\n",
    "\t\t#print(k, xk, fxk, err, sep=\"\\t\")\t\t\t\t\t\t\n",
    "\t\tprint(f\"{k}\\t {xk:.16f}\\t{fxk:.16f}\\t{err:.12f}\")\t\t\t\t\t\t\n",
    "\t\tif err < TOL:\t\t\t\t\t\t\t\t\t\t\t\t\t\t\t\t\t\t\t\t\t\t\t\t\t\n",
    "\t\t\t\tbreak\t\t\t\t\t\t\t\t\t\t\t\t\t\t\t\t\t\t\t\t\t\t\t\t\n",
    "\t\t\t\t\t\t\t\t\t\t\t\t\t\t\t\t\t\t\t\t\t\t\t\t\t\t\t\t\t\t\t\t\t\t\n",
    "if err < TOL:\t\t\t\t\t\t\t\t\t\t\t\t\t\t\t\t\t\t\t\t\t\t\t\t\t\t\t\t\n",
    "\t\tprint(\"Required accuracy achieved; Solution is convergent.\")\t\t\t\t\n",
    "else:\t\t\t\t\t\t\t\t\t\t\t\t\t\t\t\t\t\t\t\t\t\t\t\t\t\t\t\t\t\t\t\n",
    "\t\tprint(\"The Number of iterations exceeded the maximum limit.\")\n"
   ]
  },
  {
   "cell_type": "code",
   "execution_count": null,
   "id": "62d7cb12",
   "metadata": {},
   "outputs": [],
   "source": []
  }
 ],
 "metadata": {
  "kernelspec": {
   "display_name": "Python 3 (ipykernel)",
   "language": "python",
   "name": "python3"
  },
  "language_info": {
   "codemirror_mode": {
    "name": "ipython",
    "version": 3
   },
   "file_extension": ".py",
   "mimetype": "text/x-python",
   "name": "python",
   "nbconvert_exporter": "python",
   "pygments_lexer": "ipython3",
   "version": "3.9.7"
  }
 },
 "nbformat": 4,
 "nbformat_minor": 5
}
