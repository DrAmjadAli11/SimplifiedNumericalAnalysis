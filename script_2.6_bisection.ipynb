{
 "cells": [
  {
   "cell_type": "code",
   "execution_count": 11,
   "id": "888d478e",
   "metadata": {},
   "outputs": [
    {
     "name": "stdout",
     "output_type": "stream",
     "text": [
      "Enter the first initial approximation: 0\n",
      "Enter the second initial approximation: 1\n",
      "k           a             b               ck             f(c)              Error\n",
      "2\t0.0000000\t1.0000000\t 0.5000000000\t0.8307042679\t0.83070427\n",
      "3\t0.0000000\t0.5000000\t 0.2500000000\t-0.0366214574\t0.03662146\n",
      "4\t0.2500000\t0.2500000\t 0.3750000000\t0.4112811145\t0.33333333\n",
      "5\t0.2500000\t0.3750000\t 0.3125000000\t0.1906005734\t0.19060057\n",
      "6\t0.2500000\t0.3125000\t 0.2812500000\t0.0777719929\t0.07777199\n",
      "7\t0.2500000\t0.2812500\t 0.2656250000\t0.0207665250\t0.02076653\n",
      "8\t0.2500000\t0.2656250\t 0.2578125000\t-0.0078801924\t0.00788019\n",
      "9\t0.2578125\t0.2578125\t 0.2617187500\t0.0064550521\t0.00645505\n",
      "10\t0.2578125\t0.2617188\t 0.2597656250\t-0.0007096071\t0.00070961\n",
      "11\t0.2597656\t0.2597656\t 0.2607421875\t0.0028734643\t0.00287346\n",
      "12\t0.2597656\t0.2607422\t 0.2602539062\t0.0010821139\t0.00108211\n",
      "13\t0.2597656\t0.2602539\t 0.2600097656\t0.0001862997\t0.00018630\n",
      "14\t0.2597656\t0.2600098\t 0.2598876953\t-0.0002616421\t0.00026164\n",
      "15\t0.2598877\t0.2598877\t 0.2599487305\t-0.0000376683\t0.00003767\n",
      "16\t0.2599487\t0.2599487\t 0.2599792480\t0.0000743164\t0.00007432\n",
      "17\t0.2599487\t0.2599792\t 0.2599639893\t0.0000183242\t0.00001832\n",
      "18\t0.2599487\t0.2599640\t 0.2599563599\t-0.0000096720\t0.00000967\n",
      "19\t0.2599564\t0.2599564\t 0.2599601746\t0.0000043261\t0.00000433\n",
      "20\t0.2599564\t0.2599602\t 0.2599582672\t-0.0000026729\t0.00000267\n",
      "21\t0.2599583\t0.2599583\t 0.2599592209\t0.0000008266\t0.00000083\n",
      "Required accuracy achieved; Solution is convergent.\n"
     ]
    }
   ],
   "source": [
    "from numpy import *\t\t\t\t\t\t\t\t\t\t\t\t\t\t\t\t\t\t\t\t\t\n",
    "N = 500                # setting the maximum number of iterations\t\t\t\t\t\t\t\t\t\t\n",
    "TOL = 0.000001        # setting the tolerance\t\t\t\t\t\t\t\t\t\t\t\t\t\n",
    "\t\t\t\t\t\t\t\t\t\t\t\t\t\t\t\t\t\t\t\t\t\t\t\t\t\t\t\t\t\t\t\t\t\t\n",
    "def fval(x):\t\t\t\t\t\t\t\t\t\t\t\t\t\t\t\t\t\t\t\t\t\t\t\t\t\t\t\n",
    "\t\ty = 4*x + sin(x) - exp(x)\t\t\t\t\t\t\t\t\t\t\t\t\t\t\n",
    "\t\treturn (y)\t\t\t\t\t\t\t\t\t\t\t\t\t\t\t\t\t\t\t\t\t\t\t\t\t\t\n",
    "\t\t\t\t\t\t\t\t\t\t\t\t\t\t\t\t\t\t\t\t\t\t\t\t\t\t\t\t\t\t\t\t\t\t\n",
    "a = float(input(\"Enter the first initial approximation: \"))\t\t\t\n",
    "b = float(input(\"Enter the second initial approximation: \"))\t\t\t\n",
    "xk = b\t\t\t\n",
    "x0 = a\t\t\t\t\n",
    "x1 = b\t\t\t\n",
    "fx0 = fval(x0)\t\t\t\n",
    "fx1 = fval(x1)\t\t\t\n",
    "print(\"k           a             b               ck             f(c)              Error\")\t\t\n",
    "\t\t\t\t\t\t\t\t\t\t\t\t\t\t\t\t\t\t\t\t\t\t\t\t\t\t\t\t\t\t\t\t\t\t\n",
    "for k in range(2,N+2):\t\t\t\t\t\t\t\t\t\t\t\t\t\t\t\t\t\t\t\n",
    "\t\txp = xk\t\t\t\t\t\t\t\t\t\t\t\t\t\t\t\t\t\t\t\t\t\t\t\t\n",
    "\t\txk = x0 + (x1 - x0)/2\t\t\t\t\t\t\t\t\t\t\t\t\t\t\n",
    "\t\t\t\t\t\t\t\t\t\t\t\t\t\t\t\t\t\t\t\t\t\t\t\t\t\n",
    "\t\tfxk = fval(xk)\t\t\t\t\t\t\t\t\t\t\t\t\t\t\t\t\t\t\t\t\t\t\t\n",
    "\t\t\t\t\t\t\t\t\t\t\t\t\t\t\t\t\t\t\t\t\t\t\t\t\t\t\t\t\t\t\t\t\t\t\n",
    "\t\terr1 = abs(xk - xp)/abs(xk)\t\t\t\t\t\t\t\t\t\t\t\t\t\t\t\t\t\t\n",
    "\t\terr2 = abs(fxk)\t\t\t\t\t\t\t\t\t\t\t\t\t\t\t\t\t\t\n",
    "\t\terr = min(err1,err2)\t\t\t\t\t\t\t\t\t\t\t\t\t\t\t\t\t\t\n",
    "\t\t\t\t\t\t\t\t\t\t\t\t\t\t\t\t\t\t\t\t\t\t\t\t\t\t\t\t\t\t\t\t\t\t\n",
    "\t\t#print(k, x0, xp, xk, fxk, err, sep=\"\\t\")\t\t\t\t\t\t\t\t\t\t\t\t\t\t\n",
    "\t\tprint(f\"{k}\\t{x0:.7f}\\t{xp:.7f}\\t {xk:.10f}\\t{fxk:.10f}\\t{err:.8f}\")\t\t\t\t\t\t\t\t\t\t\t\t\t\n",
    "\t\tif err < TOL:\t\t\t\t\t\t\t\t\t\t\t\t\t\t\t\t\t\t\t\t\t\t\n",
    "\t\t\t\tbreak\t\t\t\t\t\t\t\t\t\t\t\t\t\t\t\t\t\t\t\t\t\t\t\n",
    "\t\telif fx0 * fxk < 0:\t\t\t\t\t\t\t\t\t\t\t\t\t\t\t\t\t\t\t\t\t\t\t\n",
    "\t\t\t\tx1 = xk\t\t\t\t\t\t\t\t\t\t\t\t\t\t\t\t\t\t\t\t\t\t\t\n",
    "\t\t\t\tfx1 = fxk\t\t\t\t\t\t\t\t\t\t\t\t\t\t\t\t\t\t\t\t\t\t\t\n",
    "\t\telse:\t\t\t\t\t\t\t\t\t\t\t\t\t\t\t\t\t\t\t\t\t\t\t\t\t\t\t\t\n",
    "\t\t\t\tx0 = xk\t\t\t\t\t\t\t\t\t\t\t\t\t\t\t\t\t\t\t\t\t\t\t\t\n",
    "\t\t\t\tfx0 = fxk\t\t\t\t\t\t\t\t\t\t\t\t\t\t\t\t\t\t\t\t\t\t\t\t\n",
    "\t\t\t\t\t\t\t\t\t\t\t\t\t\t\t\t\t\t\t\t\t\t\t\t\t\t\t\t\t\t\t\t\t\t\n",
    "if err < TOL:\t\t\t\t\t\t\t\t\t\t\t\t\t\t\t\t\t\t\t\t\t\t\t\t\t\t\t\t\n",
    "\t\tprint(\"Required accuracy achieved; Solution is convergent.\")\t\t\t\t\n",
    "else:\t\t\t\t\t\t\t\t\t\t\t\t\t\t\t\t\t\t\t\t\t\t\t\t\t\t\t\t\t\t\t\n",
    "\t\tprint(\"The Number of iterations exceeded the maximum limit.\")\n"
   ]
  },
  {
   "cell_type": "code",
   "execution_count": null,
   "id": "92749da3",
   "metadata": {},
   "outputs": [],
   "source": []
  }
 ],
 "metadata": {
  "kernelspec": {
   "display_name": "Python 3 (ipykernel)",
   "language": "python",
   "name": "python3"
  },
  "language_info": {
   "codemirror_mode": {
    "name": "ipython",
    "version": 3
   },
   "file_extension": ".py",
   "mimetype": "text/x-python",
   "name": "python",
   "nbconvert_exporter": "python",
   "pygments_lexer": "ipython3",
   "version": "3.9.7"
  }
 },
 "nbformat": 4,
 "nbformat_minor": 5
}
