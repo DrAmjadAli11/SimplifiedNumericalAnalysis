{
 "cells": [
  {
   "cell_type": "code",
   "execution_count": 18,
   "id": "a964d41f",
   "metadata": {},
   "outputs": [
    {
     "name": "stdout",
     "output_type": "stream",
     "text": [
      "The Divided Difference Interpolation.\n",
      "Enter real values as the arbitrary nodes\n",
      " -1\n",
      " 2\n",
      " 3\n",
      " 6\n",
      "Enter real values as the function values corresponding to x_i nodes \n",
      " -3\n",
      " 5\n",
      " 17\n",
      " 21\n",
      "Enter a value which the interpolate is to be obtained: 2\n",
      "The interpolate or extrapolate value of function at x = xp is 5.0\n"
     ]
    }
   ],
   "source": [
    "from numpy import *\t\t\t\t\t\t\t\t\t\t\t\t\t\t\t\t\t\t\t\t\t\t\n",
    "\t\t\t\t\t\t\t\t\t\t\t\t\t\t\t\t\t\t\t\t\t\t\t\t\t\t\t\t\t\t\t\t\t\t\n",
    "n = 3\t\t# degree of interpolating polynomial\t\t\t\t\t\t\t\t\t\t\t\n",
    "f = zeros([n+1])\t\t\t\t\t\t\t\t\t\t\t\t\t\t\t\t\t\t\t\t\t\t\t\t\t\t\n",
    "x = zeros([n+1])\t\t\t\t\t\t\t\t\t\t\t\t\t\t\t\t\t\t\t\t\t\t\t\t\t\n",
    "ddf= zeros([n+1,n+1])\t\t\t\t\t\t\t\t\t\t\t\t\t\t\t\t\t\t\t\t\n",
    "\t\t\t\t\t\t\t\t\t\t\t\t\t\t\t\t\t\t\t\t\t\t\t\t\t\t\t\t\t\t\t\t\t\t\n",
    "print(\"The Divided Difference Interpolation.\")\t\t\t\t\t\t\t\t\t\t\t\n",
    "print(\"Enter real values as the arbitrary nodes\")\t\t\t\t\t\t\t\t\t\t\t\n",
    "for i in range(n+1):\t\t\t\t\t\t\t\t\t\t\t\t\t\t\t\t\t\t\t\t\t\t\t\t\t\n",
    "\t\tx[i] = float(input(\" \"))\t\t\t\t\t# x[i] = float(x[i])\t\t\t\t\n",
    "\t\t\t\t\t\t\t\t\t\t\t\t\t\t\t\t\t\t\t\t\t\t\t\t\t\t\t\t\t\t\t\t\t\t\n",
    "print(\"Enter real values as the function values corresponding to x_i nodes \")\n",
    "for i in range(n+1):\t\t\t\t\t\t\t\t\t\t\t\t\t\t\t\t\t\t\t\t\t\t\t\t\t\n",
    "\t\tf[i] = float(input(\" \"))\t\t\t\t\t\t\t\t\t\t\t\t\t\t\t\t\t\t\t\n",
    "\t\t\t\t\t\t\t\t\t\t\t\t\t\t\t\t\t\t\t\t\t\t\t\t\t\t\t\t\t\t\t\t\t\t\n",
    "xp = float(input(\"Enter a value which the interpolate is to be obtained: \"))\n",
    "\t\t\t\t\t\t\t\t\t\t\t\t\t\t\t\t\t\t\t\t\t\t\t\t\t\t\t\t\t\t\t\t\t\t\n",
    "#computing zeroth divided difference\t\t\t\t\t\t\t\t\t\t\t\t\t\t\n",
    "for i in range(n+1):\t\t\t\t\t\t\t\t\t\t\t\t\t\t\t\t\t\t\t\t\t\t\t\t\t\n",
    "\t\tddf[i][0] = f[i]\t\t\t\t\t\t\t\t\t\t\t\t\t\t\t\t\t\t\t\t\t\n",
    "\t\t\t\t\t\t\t\t\t\t\t\t\t\t\t\t\t\t\t\t\t\t\t\t\t\t\t\t\t\t\t\t\t\t\n",
    "#computing the divided difference of Order 1 to n\t\t\t\t\t\t\t\t\n",
    "for j in range(1,n+1):\t\t\t\t\t\t\t\t\t\t\t\t\t\t\t\t\t\t\t\t\t\t\n",
    "\t\tfor i in range(n-j+1):\t\t\t\t\t\t\t\t\t\t\t\t\t\t\t\t\t\t\t\n",
    "\t\t\t\tddf[i][j] = (ddf[i+1][j-1] - ddf[i][j-1]) / (x[i+j] - x[i] )\t\t\n",
    "\t\t\t\t\t\t\t\t\t\t\t\t\t\t\t\t\t\t\t\t\t\t\t\t\t\t\t\t\t\t\t\t\t\t\n",
    "pro = 1\t\t\t\t\t#Evaluting the interpolation polynomial at xp\t\n",
    "fxp = ddf[0][0]\t\t\t\t\t\t\t\t\t\t\t\t\t\t\t\t\t\t\t\t\t\t\t\t\t\t\n",
    "for k in range(1,n+1):\t\t\t\t\t\t\t\t\t\t\t\t\t\t\t\t\t\n",
    "\t\tpro = pro *(xp - x[k-1])\t\t\t\t\t\t\t\t\t\t\t\t\n",
    "\t\tfxp = fxp + pro * ddf[0][k]\t\t\t\t\t\t\t\t\t\t\t\t\n",
    "\t\t\t\t\t\t\t\t\t\t\t\t\t\t\t\t\t\t\t\t\t\t\t\t\t\t\t\t\t\t\t\t\t\t\n",
    "print(\"The interpolate or extrapolate value of function at x = xp is\",fxp)\n"
   ]
  },
  {
   "cell_type": "code",
   "execution_count": null,
   "id": "806e836f",
   "metadata": {},
   "outputs": [],
   "source": []
  }
 ],
 "metadata": {
  "kernelspec": {
   "display_name": "Python 3 (ipykernel)",
   "language": "python",
   "name": "python3"
  },
  "language_info": {
   "codemirror_mode": {
    "name": "ipython",
    "version": 3
   },
   "file_extension": ".py",
   "mimetype": "text/x-python",
   "name": "python",
   "nbconvert_exporter": "python",
   "pygments_lexer": "ipython3",
   "version": "3.9.7"
  }
 },
 "nbformat": 4,
 "nbformat_minor": 5
}
