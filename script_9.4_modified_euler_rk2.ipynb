{
 "cells": [
  {
   "cell_type": "code",
   "execution_count": 42,
   "id": "b81e33cb",
   "metadata": {},
   "outputs": [
    {
     "name": "stdout",
     "output_type": "stream",
     "text": [
      "Node     x[i]     w[i]          Exact Sol         Relative Error\n",
      "0 \t 0.00 \t 0.5000000 \t 0.5000000 \t 0.00000000\n",
      "1 \t 0.10 \t 0.7570000 \t 0.7696076 \t 0.01638181\n",
      "2 \t 0.20 \t 1.1821600 \t 1.2157520 \t 0.02763064\n",
      "3 \t 0.30 \t 1.8657968 \t 1.9350950 \t 0.03581126\n",
      "4 \t 0.40 \t 2.9415793 \t 3.0718388 \t 0.04240443\n",
      "5 \t 0.50 \t 4.6073373 \t 4.8411081 \t 0.04828869\n",
      "6 \t 0.60 \t 7.1558592 \t 7.5638308 \t 0.05393716\n",
      "7 \t 0.70 \t 11.0204716 \t 11.7187755 \t 0.05958847\n",
      "8 \t 0.80 \t 16.8424980 \t 18.0201808 \t 0.06535355\n",
      "9 \t 0.90 \t 25.5710971 \t 27.5335655 \t 0.07127549\n",
      "10 \t 1.00 \t 38.6110237 \t 41.8484969 \t 0.07736176\n"
     ]
    }
   ],
   "source": [
    "from numpy import *\t\t\t\t\t\t\t\t\t\t\t\t\t\t\t\t\t\t\n",
    "\t\t\t\t\t\t\t\t\t\t\t\t\t\t\t\t\t\t\t\t\t\t\t\t\t\t\t\t\t\t\t\n",
    "a = 0.0\t\t# starting point of domain\t\t\t\t\t\t\t\n",
    "b = 1.0\t\t\t# ending point of domain\t\t\t\t\t\t\t\n",
    "alpha = 0.5  \t\t\t\t# initial condition\t\t\t\t\t\t\t\t\t\n",
    "m = 10  \t\t\t\t\t\t\t\t\t# number of steps\t\t\t\t\t\t\t\t\t\t\n",
    "\t\t\t\t\t\t\t\t\t\t\t\t\t\t\t\t\t\t\t\t\t\t\t\t\t\t\t\t\t\t\t\n",
    "def fval(x, y):\t\t\t\t\t\t\t\t\t\t\t\t\t\t\t\t\t\t\t\t\t\t\t\n",
    "\t\treturn 4 * y + 4 * x ** 2 + 3 * x\t\t\t\t\t\t\t\t\t\t\t\t\n",
    "\t\t\t\t\t\t\t\t\t\t\t\t\t\t\t\t\t\t\t\t\t\t\t\t\t\t\t\t\t\t\t\n",
    "def fexact(x):\t\t\t\t\t\t\t\t\t\t\t\t\t\t\t\t\t\t\t\t\t\t\n",
    "\t\treturn -x ** 2 - 1.2 * x - (5.0 / 16.0) + (13.0 / 16.0) * exp(4 * x)\t\t\n",
    "\t\t\t\t\t\t\t\t\t\t\t\t\t\t\t\t\t\t\t\t\t\t\t\t\t\t\t\t\t\t\t\n",
    "#----- User-defined function for the modified Euler method-----\t\t\t\t\t\n",
    "\t\t\t\t\t\t\t\t\t\t\t\t\t\t\t\t\t\t\t\t\t\t\t\t\t\t\t\t\t\t\t\n",
    "def eulerimp(xa, wa, h):\t\t\t\t\t\t\t\t\t\t\t\t\t\t\t\t\t\t\t\t\t\n",
    "\t\tfor i in range(1,m+1):\t\t\t\t\t\t\t\t\t\t\t\t\t\t\t\t\t\t\t\n",
    "\t\t\t\tfv = fval(xa[i - 1], wa[i - 1])\t\t\t\t\t\t\t\t\t\t\t\t\t\n",
    "\t\t\t\twnext = wa[i - 1] + h * fv\t\t\t\t\t\t\t\t\t\t\t\t\t\t\n",
    "\t\t\t\tfvnext = fval(xa[i], wnext)\t\t\t\t\t\t\t\t\t\t\t\t\t\t\t\t\t\n",
    "\t\t\t\twa[i] = wa[i - 1] + h * (fv + fvnext) / 2.0\t\t\t\t\t\t\t\t\t\t\t\t\n",
    "\t\t\t\t\t\t\t\t\t\t\t\t\t\t\t\t\t\t\t\t\t\t\t\t\t\t\t\t\t\t\t\n",
    "h = (b - a) / m\t\t\t\t\t\t\t\t\t\t\t\t\t\t\t\t\t\t\t\t\t\t\n",
    "x = zeros(m+1)\t\t\t\t\t\t\t\t\t\t\t\t\t\t\t\t\t\t\t\t\t\n",
    "w = zeros(m+1)\t\t\t\t\t\t\t\t\t\t\t\t\t\t\t\t\t\t\t\t\t\t\t\n",
    "\t\t\t\t\t\t\t\t\t\t\t\t\t\t\t\t\t\t\t\t\t\t\t\t\t\t\t\t\t\t\t\n",
    "x[0] = a\t\t\t\t\t\t\t\t\t\t\t\t\t\t\t\t\t\t\t\t\t\t\t\t\n",
    "x[m] = b\t\t\t\t\t\t\t\t\t\t\t\t\t\t\t\t\t\t\t\t\t\t\t\t\n",
    "for i in range(1,m+1):\t\t\t\t\t\t\t\t\t\t\t\t\t\t\t\t\t\t\t\t\t\t\t\n",
    "\t\tx[i] = x[i-1] + h\t\t\t\t\t\t\t\t\t\t\t\t\t\t\t\t\t\t\t\n",
    "\t\t\t\t\t\t\t\t\t\t\t\t\t\t\t\t\t\t\t\t\t\t\t\t\t\t\t\t\t\t\t\n",
    "w[0]= alpha\t\t\t# setting initial condition\t\t\t\t\t\t\t\t\t\n",
    "\t\t\t\t\t\t\t\t\t\t\t\t\t\t\t\t\t\t\t\t\t\t\t\t\t\t\t\t\t\t\t\n",
    "#Call the improved Euler (RK2) method function\t\t\t\t\t\t\n",
    "\t\t\t\t\t\t\t\t\t\t\t\t\t\t\t\t\t\t\t\t\t\t\t\t\t\t\t\t\t\t\t\n",
    "eulerimp(x, w, h)\t\t\t\t\t\t\t\t\t\t\t\t\t\t\t\t\t\t\t\t\t\n",
    "\t\t\t\t\t\t\t\t\t\t\t\t\t\t\t\t\t\t\t\t\t\t\t\t\t\t\t\t\t\t\t\n",
    "# ----------------- Printing Solutions ----------------- \t\t\t\t\t\t\t\t\n",
    "print(\"Node     x[i]     w[i]          Exact Sol         Relative Error\")\t\t\t\t\t\t\t\t\n",
    "for i in range(0,m+1):\t\t\t\t\t\t\t\t\t\t\t\t\t\t\t\t\t\t\t\t\t\t\n",
    "\t\tsol = fexact(x[i])\t\t\t\t\t\t\t\t\t\t\t\t\t\t\t\t\t\t\n",
    "\t\terr = abs(sol-w[i]) / abs(sol)\t\t\t\t\t\t\t\t\t\t\t\t\t\t\t\t\t\n",
    "\t\t\t\t\t\t\t\t\t\t\t\t\t\t\t\t\t\t\t\t\t\t\t\t\t\t\t\t\t\t\t\n",
    "\t\tprint(i,\"\\t\",\"%.2f\" %x[i],\"\\t\",\"%.7f\" %w[i],\"\\t\",\"%.7f\" %sol,\"\\t\",\"%.8f\" %err)\n"
   ]
  },
  {
   "cell_type": "code",
   "execution_count": null,
   "id": "5b8cfc87",
   "metadata": {},
   "outputs": [],
   "source": []
  }
 ],
 "metadata": {
  "kernelspec": {
   "display_name": "Python 3 (ipykernel)",
   "language": "python",
   "name": "python3"
  },
  "language_info": {
   "codemirror_mode": {
    "name": "ipython",
    "version": 3
   },
   "file_extension": ".py",
   "mimetype": "text/x-python",
   "name": "python",
   "nbconvert_exporter": "python",
   "pygments_lexer": "ipython3",
   "version": "3.9.7"
  }
 },
 "nbformat": 4,
 "nbformat_minor": 5
}
