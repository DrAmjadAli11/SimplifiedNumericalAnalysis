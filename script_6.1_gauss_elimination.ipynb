{
 "cells": [
  {
   "cell_type": "code",
   "execution_count": 23,
   "id": "14bf1352",
   "metadata": {},
   "outputs": [
    {
     "name": "stdout",
     "output_type": "stream",
     "text": [
      "The solution of given system is [-0.61111111  0.          2.9       ]\n"
     ]
    }
   ],
   "source": [
    "from numpy import *\t\t\t\t\t\t\t\t\t\t\t\n",
    "\t\t\t\t\t\t\t\t\t\t\t\t\t\t\t\t\t\t\t\t\t\n",
    "a = [[1.7, 2.3, -1.5],[1.1, 1.6, -1.9],[2.7, -2.2, 1.5]]\n",
    "b = [2.35, -0.94, 2.70]\t\t\t\t\t\t\t\t\n",
    "n = 3\t\t\t\t\t\t\t\t\t\t\t\t\t\t\t\t\n",
    "t = zeros(n)\t\t\t\t\t\t\t\t\t\t\t\t\n",
    "\t\t\t\t\t\t\t\t\t\t\t\t\t\t\t\t\t\t\t\t\t\n",
    "# Forward Elimination phase\t\t\t\t\t\t\n",
    "for i in range(n):\t\t\t\t\t\t\t\t\t\t\t\t\t\n",
    "\t\tr = i\t\t\t\t\t\t\t\t\t\t\t\t\n",
    "\t\tfor j in range(i+1,n):\t\t\t\t\n",
    "\t\t\t\tif abs(a[r][i]) < abs(a[i][j]):\t\n",
    "\t\t\t\t\t\tr = j\t\t\t\t\t\t\t\t\t\t\n",
    "\t\tif a[r][i] == 0:\t\t\t\t\t\t\t\n",
    "\t\t\t\tprint(\"System has no unique solution\")\n",
    "\t\t\t\tbreak\t\t\t\t\t\t\t\t\t\t\t\t\n",
    "\t\telse:\t\t\t\t\t\t\t\t\t\t\t\t\t\t\t\n",
    "\t\t\t\tif r != i:\t\t\t\t\t\t\t\t\t\n",
    "\t\t\t\t\t\tfor j in range(n):\t\t\t\t\n",
    "\t\t\t\t\t\t\t\ttemp = a[i][j]\t\t\n",
    "\t\t\t\t\t\t\t\ta[i][j] = a[r][j]\t\t\n",
    "\t\t\t\t\t\t\t\ta[r][j] = temp\t\t\n",
    "\t\ttemp1 = b[i]\t\t\t\t\t\t\t\t\t\n",
    "\t\tb[i] = b[r]\t\t\t\t\t\t\t\t\t\t\t\t\n",
    "\t\tb[r] = temp1\t\t\t\t\t\t\t\t\t\t\t\t\n",
    "\t\t\t\t\t\t\t\t\t\t\t\t\t\t\t\t\t\t\t\t\t\n",
    "\t\tfor k in range(i+1,n):\t\t\t\t\t\t\n",
    "\t\t\t\tmultiplier = a[k][i]/a[i][i]\t\n",
    "\t\t\t\tfor j in range(i+1,n):\t\t\t\t\t\t\t\n",
    "\t\t\t\t\t\ta[k][j] = a[k][j] - multiplier * a[i][j]\n",
    "\t\t\t\tb[k] = b[k] - multiplier * b[i]\n",
    "\t\t\t\t\t\t\t\t\t\t\t\t\t\t\t\t\t\t\t\t\t\n",
    "if a[n-1][n-1] == 0:\t\t\t\t\t\t\t\t\t\t\t\n",
    "\t\tprint(\"The system has no unique solution\")\n",
    "else:\t\t\t\t\t\t\t\t\t\t\t\t\t\t\t\t\t\n",
    "\t\tt[n-1] = b[n-1] / a[n-1][n-1]\n",
    "for i in reversed(range(n-1)):\t\t\n",
    "\t\tsum=0\t\t\t\t\t\t\t\t\t\t\t\t\n",
    "\t\tfor j in range(i+1,n) :\t\t\t\t\t\t\t\n",
    "\t\t\t\tsum = sum + a[i][j] * t[j]\t\n",
    "t[i] = (b[i] - sum) / a[i][i]\t\t\t\t\t\n",
    "\t\t\t\t\t\t\t\t\t\t\t\t\t\t\t\t\t\t\t\t\t\n",
    "print(\"The solution of given system is\", t)\n"
   ]
  },
  {
   "cell_type": "code",
   "execution_count": null,
   "id": "0f41d370",
   "metadata": {},
   "outputs": [],
   "source": []
  }
 ],
 "metadata": {
  "kernelspec": {
   "display_name": "Python 3 (ipykernel)",
   "language": "python",
   "name": "python3"
  },
  "language_info": {
   "codemirror_mode": {
    "name": "ipython",
    "version": 3
   },
   "file_extension": ".py",
   "mimetype": "text/x-python",
   "name": "python",
   "nbconvert_exporter": "python",
   "pygments_lexer": "ipython3",
   "version": "3.9.7"
  }
 },
 "nbformat": 4,
 "nbformat_minor": 5
}
