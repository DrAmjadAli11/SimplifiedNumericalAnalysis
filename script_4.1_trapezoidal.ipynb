{
 "cells": [
  {
   "cell_type": "code",
   "execution_count": 19,
   "id": "f6b6f215",
   "metadata": {},
   "outputs": [
    {
     "name": "stdout",
     "output_type": "stream",
     "text": [
      "The Composite Trapezoidal Rule\n",
      "Enter the lower limit of integral: 0\n",
      "Enter the upper limit of integral: 2\n",
      "Enter the number of subintervals n: 12\n",
      "The Approximate Integral = 2.9599562632284453\n"
     ]
    }
   ],
   "source": [
    "from numpy import *\t\t\t\t\t\t\t\t\t\t\t\n",
    "\t\t\t\t\t\t\t\t\t\t\t\t\t\t\t\t\t\t\t\t\n",
    "print(\"The Composite Trapezoidal Rule\")\t\t\t\n",
    "x0 = float(input(\"Enter the lower limit of integral: \"))\n",
    "xn = float(input(\"Enter the upper limit of integral: \"))\n",
    "n = int(input(\"Enter the number of subintervals n: \"))\n",
    "\t\t\t\t\t\t\t\t\t\t\t\t\t\t\t\t\t\t\t\t\n",
    "h = (xn - x0) / n\t\t\t\t\t\t\t\t\t\t\t\t\t\n",
    "fx0 = sqrt(x0**2 + 1)\t\t\t\t\t\t\t\t\t\t\t\n",
    "fxn = sqrt(xn**2 + 1)\t\t\t\t\t\t\t\t\t\t\n",
    "I = fx0 + fxn\t\t\t\t\t\t\t\t\t\t\n",
    "xc = x0\t\t\t\t\t\t\t\t\t\t\t\t\t\t\n",
    "sum = 0\t\t\t\t\t\t\t\t\t\t\t\t\t\t\n",
    "\t\t\t\t\t\t\t\t\t\t\t\t\t\t\t\t\t\t\t\t\n",
    "for i in range(1,n):\t\t\t\t\t\t\t\t\n",
    "\t\txc = xc + h\t\t\t\t\t\t\t\t\t\n",
    "\t\tfxc = sqrt(xc**2 + 1)\t\t\t\t\t\t\t\t\n",
    "\t\tsum = sum + fxc\t\t\t\t\t\t\t\n",
    "I = (h / 2) * (I + 2 * sum)\t\t\t\t\t\t\n",
    "\t\t\t\t\t\t\t\t\t\t\t\t\t\t\t\t\t\t\t\t\n",
    "print(\"The Approximate Integral =\", I)\n"
   ]
  },
  {
   "cell_type": "code",
   "execution_count": null,
   "id": "22e9f007",
   "metadata": {},
   "outputs": [],
   "source": []
  }
 ],
 "metadata": {
  "kernelspec": {
   "display_name": "Python 3 (ipykernel)",
   "language": "python",
   "name": "python3"
  },
  "language_info": {
   "codemirror_mode": {
    "name": "ipython",
    "version": 3
   },
   "file_extension": ".py",
   "mimetype": "text/x-python",
   "name": "python",
   "nbconvert_exporter": "python",
   "pygments_lexer": "ipython3",
   "version": "3.9.7"
  }
 },
 "nbformat": 4,
 "nbformat_minor": 5
}
