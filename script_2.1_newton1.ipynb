{
 "cells": [
  {
   "cell_type": "code",
   "execution_count": 1,
   "id": "e4acb1ed",
   "metadata": {},
   "outputs": [
    {
     "name": "stdout",
     "output_type": "stream",
     "text": [
      "Enter the initial approximation: 0\n",
      "iter.                xk                   f(xk)\n",
      "1\t 0.2500000000000000\t-0.0366214574332184\n",
      "2\t 0.2599382850500705\t-0.0000759982664056\n",
      "3\t 0.2599589955313102\t-0.0000000003332497\n",
      "4\t 0.2599589956221257\t0.0000000000000000\n",
      "5\t 0.2599589956221257\t0.0000000000000000\n",
      "6\t 0.2599589956221257\t0.0000000000000000\n",
      "7\t 0.2599589956221257\t0.0000000000000000\n",
      "8\t 0.2599589956221257\t0.0000000000000000\n",
      "9\t 0.2599589956221257\t0.0000000000000000\n",
      "10\t 0.2599589956221257\t0.0000000000000000\n",
      "11\t 0.2599589956221257\t0.0000000000000000\n",
      "12\t 0.2599589956221257\t0.0000000000000000\n",
      "12 iterations completed.\n"
     ]
    }
   ],
   "source": [
    "from numpy import *\t\t\t\t\n",
    "N = 12          # setting the maximum number of iterations\n",
    "\t\t\t\t\t\t\t\t\t\t\t\t\t\t\t\t\t\n",
    "x0 = float(input(\"Enter the initial approximation: \"))\n",
    "print(\"iter.                xk                   f(xk)\")\n",
    "\t\t\t\t\t\t\t\t\t\t\t\t\t\t\t\t\t\n",
    "xk = x0\t\n",
    "fxk = 4*xk + sin(xk) - exp(xk)\t\n",
    "for k in range(1,N+1):\t\t\n",
    "\t\txp = xk\t\t\t\t\t\t\t\n",
    "\t\tfxp = fxk\t\t\t\t\t\n",
    "\t\tdfxp = 4 + cos(xp) - exp(xp)\t\t\t\t\t\n",
    "\t\txk = xp - (fxp/dfxp)\t\t\t\t\t\n",
    "\t\tfxk = 4*xk + sin(xk) - exp(xk)\t\t\n",
    "\t\t\n",
    "\t\t#print(k, xk, fxk, sep=\"\\t\")\n",
    "\t\tprint(f\"{k}\\t {xk:.16f}\\t{fxk:.16f}\")\n",
    "\t\t\t\t\t\t\t\t\t\t\t\t\t\t\t\t\t\n",
    "print(N , \"iterations completed.\")\n"
   ]
  },
  {
   "cell_type": "code",
   "execution_count": null,
   "id": "dad78280",
   "metadata": {},
   "outputs": [],
   "source": []
  }
 ],
 "metadata": {
  "kernelspec": {
   "display_name": "Python 3 (ipykernel)",
   "language": "python",
   "name": "python3"
  },
  "language_info": {
   "codemirror_mode": {
    "name": "ipython",
    "version": 3
   },
   "file_extension": ".py",
   "mimetype": "text/x-python",
   "name": "python",
   "nbconvert_exporter": "python",
   "pygments_lexer": "ipython3",
   "version": "3.9.7"
  }
 },
 "nbformat": 4,
 "nbformat_minor": 5
}
