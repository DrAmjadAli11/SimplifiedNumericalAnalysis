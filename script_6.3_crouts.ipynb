{
 "cells": [
  {
   "cell_type": "code",
   "execution_count": 26,
   "id": "2ff798ba",
   "metadata": {},
   "outputs": [
    {
     "name": "stdout",
     "output_type": "stream",
     "text": [
      "The L matrix is:\n",
      "1.7              0.0              0.0               \n",
      "1.1              0.11176470588235299              0.0               \n",
      "2.7              -1.2294117647058824              -6.341176470588229               \n",
      "The U matrix is:\n",
      "1.0           1.352941176470588           -0.8823529411764706            \n",
      "0.0           1.0           -8.315789473684205            \n",
      "0.0           0.0           1.0            \n",
      "The required solution is:\n",
      "-14.775803144224206           14.832877648667132           4.431168831168835           "
     ]
    }
   ],
   "source": [
    "from numpy import *\t\t\t\t\n",
    "\t\t\t\t\t\t\t\t\t\t\t\t\t\t\t\t\n",
    "n = 3\t\t\t\t\t\t\t\t\t\n",
    "a = [[1.7, 2.3, -1.5], [1.1, 1.6, -1.9], [2.7, -2.2, 1.5]]\n",
    "b = [2.35, -0.94, 2.70]\t\t\n",
    "x = zeros(n)\t\t\t\n",
    "y = zeros(n)\t\t\t\n",
    "l = zeros([n,n])\t\t\t\t\n",
    "u = diag(ones(n))\t\t\t\n",
    "\t\t\t\t\t\t\t\t\t\t\t\t\t\t\t\t\n",
    "for j in range(n):\t\t\t\t#Crouts Method\n",
    "\t\tl[j][0] = a[j][0]\t\t\n",
    "\t\tu[0][j] = a[0][j] / l[0][0]\n",
    "\t\t\t\t\t\t\t\t\t\t\t\t\t\t\t\t\n",
    "for i in range(1,n):\t\t\t\t\t\n",
    "\t\tu[i][i] = 1\t\t\t\t\t\t\n",
    "\t\tfor j in range(i,n):\t\t\t\n",
    "\t\t\t\tsum = 0\t\t\t\t\t\t\n",
    "\t\t\t\tfor k in range(i):\t\n",
    "\t\t\t\t\t\tsum = sum + l[i][k] * u[k][j]\n",
    "\t\t\t\tl[j][i] = a[j][i] - sum\t\n",
    "\t\tfor j in range(i+1,n):\t\t\n",
    "\t\t\t\tsum = 0\t\t\t\t\t\t\t\t\n",
    "\t\t\t\tfor k in range(i):\t\t\n",
    "\t\t\t\t\t\tsum = sum + l[i][k] * u[k][j]\n",
    "\t\t\t\tu[i][j] = ( a[i][j] - sum ) / l[i][i]\n",
    "\t\t\t\t\t\t\t\t\t\t\t\t\t\t\t\t\n",
    "#Forward substitution phase for solving LY=B\n",
    "y[0] = b[0] / l[0][0]\t\t\n",
    "for i in range(n):\t\t\t\t\t\t\n",
    "\t\tsum = 0\t\t\t\t\t\t\n",
    "\t\tfor j in  range(i):\t\t\t\t\t\n",
    "\t\t\t\tsum = sum + l[i][j] * y[j]\n",
    "\t\ty[i] = (b[i] - sum) / l[i][i]\t\t\n",
    "\t\t\t\t\t\t\t\t\t\t\t\t\t\t\t\t\n",
    "#Back substitution phase for solving UX=Y\n",
    "x[n-1] = y[n-1]\n",
    "for i in reversed(range(n-1)):\n",
    "\t\tsum = 0\t\t\t\t\t\t\t\t\t\n",
    "\t\tfor j in range(i+1,n):\t\t\t\n",
    "\t\t\t\tsum = sum + (u[i][j] * x[j])\n",
    "\t\tx[i] = ( y[i] - sum )\n",
    "\t\t\t\t\t\t\t\t\t\t\t\t\t\t\t\t\n",
    "print(\"The L matrix is:\") \t\t\t\t\t\n",
    "for i in range(n):\t\t\t\t\t\n",
    "\t\tfor j in range(n):\t\t\t\t\n",
    "\t\t\t\tprint(l[i][j], \"            \",end=\" \")\n",
    "\t\tprint(\" \")\t\t\t\t\t\t\t\n",
    "\t\t\t\t\t\t\t\t\t\t\t\t\t\t\t\t\n",
    "print(\"The U matrix is:\") \t\t\t\n",
    "for i in range(n):\t\t\t\t\t\t\t\n",
    "\t\tfor j in range(n):\t\t\t\t\n",
    "\t\t\t\tprint(u[i][j], \"         \",end=\" \")\n",
    "\t\tprint(\" \")\t\t\t\t\t\t\t\t\n",
    "\t\t\t\t\t\t\t\t\t\t\t\t\t\t\t\t\n",
    "print(\"The required solution is:\")\n",
    "for i in range(n):\t\t\t\t\t\t\n",
    "\t\tprint(x[i], \"         \",end=\" \")\n"
   ]
  },
  {
   "cell_type": "code",
   "execution_count": null,
   "id": "ed5ea3a9",
   "metadata": {},
   "outputs": [],
   "source": []
  }
 ],
 "metadata": {
  "kernelspec": {
   "display_name": "Python 3 (ipykernel)",
   "language": "python",
   "name": "python3"
  },
  "language_info": {
   "codemirror_mode": {
    "name": "ipython",
    "version": 3
   },
   "file_extension": ".py",
   "mimetype": "text/x-python",
   "name": "python",
   "nbconvert_exporter": "python",
   "pygments_lexer": "ipython3",
   "version": "3.9.7"
  }
 },
 "nbformat": 4,
 "nbformat_minor": 5
}
