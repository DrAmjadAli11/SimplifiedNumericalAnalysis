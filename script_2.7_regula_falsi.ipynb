{
 "cells": [
  {
   "cell_type": "code",
   "execution_count": 13,
   "id": "6a68e13c",
   "metadata": {},
   "outputs": [
    {
     "name": "stdout",
     "output_type": "stream",
     "text": [
      "Enter the left endpoint of the interval: 0\n",
      "Enter the right endpoint of the interval: 1\n",
      "k            a               b              ck                f(c)          Error\n",
      "2\t0.0000000\t1.0000000\t 0.3201855379\t0.2181015285\t0.21810153\n",
      "3\t0.0000000\t0.3201855\t 0.2628561991\t0.0106248258\t0.01062483\n",
      "4\t0.0000000\t0.2628562\t 0.2600927589\t0.0004908334\t0.00049083\n",
      "5\t0.0000000\t0.2600928\t 0.2599651593\t0.0000226176\t0.00002262\n",
      "6\t0.0000000\t0.2599652\t 0.2599592796\t0.0000010421\t0.00000104\n",
      "7\t0.0000000\t0.2599593\t 0.2599590087\t0.0000000480\t0.00000005\n",
      "Required accuracy achieved; Solution is convergent\n"
     ]
    }
   ],
   "source": [
    "import numpy as np\t\t\t\t\t\t\t\t\t\t\t\t\t\t\t\t\t\t\t\t\t\n",
    "N = 500                # setting the maximum number of iterations\t\t\t\t\t\t\t\t\t\t\t\n",
    "TOL = 0.000001        # setting the tolerance\t\t\t\t\t\t\t\t\t\t\t\t\t\n",
    "\t\t\t\t\t\t\t\t\t\t\t\t\t\t\t\t\t\t\t\t\t\t\t\t\t\t\t\t\t\t\t\t\t\t\n",
    "def fval(x):\t\t\t\t\t\t\t\t\t\t\t\t\t\t\t\t\t\t\t\t\t\t\t\t\t\t\t\n",
    "\t\ty = 4*x + sin(x) - exp(x)\t\t\t\t\t\t\t\t\t\t\t\t\t\t\n",
    "\t\treturn (y)\t\t\t\t\t\t\t\t\t\t\t\t\t\t\t\t\t\t\t\t\t\t\t\t\t\t\n",
    "\t\t\t\t\t\t\t\t\t\t\t\t\t\t\t\t\t\t\t\t\t\t\t\t\t\t\t\t\t\t\t\t\t\t\n",
    "a = float(input(\"Enter the left endpoint of the interval: \"))\t\t\t\n",
    "b = float(input(\"Enter the right endpoint of the interval: \"))\t\t\t\n",
    "xk = b\t\t\t\n",
    "x0 = a\t\t\t\n",
    "x1 = b\t\t\t\n",
    "fx0 = fval(x0)\t\t\t\n",
    "fx1 = fval(x1)\t\t\t\n",
    "print(\"k            a               b              ck                f(c)          Error\")\t\t\n",
    "\t\t\t\t\t\t\t\t\t\t\t\t\t\t\t\t\t\t\t\t\t\t\t\t\t\t\t\t\t\t\t\t\t\t\n",
    "for k in range(2,N+2):\t\t\t\t\t\t\t\t\t\t\t\t\t\t\t\t\t\t\t\n",
    "\t\txp = xk\t\t\t\t\t\t\t\t\t\t\t\t\t\t\t\t\t\t\t\t\t\t\t\t\n",
    "\t\txk = x1 - (fx1 * (x1 - x0))/(fx1 - fx0)\t\t\t\t\t\t\t\t\t\t\t\t\t\t\n",
    "\t\t\t\t\t\t\t\t\t\t\t\t\t\t\t\t\t\t\t\t\t\t\t\t\t\n",
    "\t\tfxk = fval(xk)\t\t\t\t\t\t\t\t\t\t\t\t\t\t\t\t\t\t\t\t\t\t\t\n",
    "\t\t\t\t\t\t\t\t\t\t\t\t\t\t\t\t\t\t\t\t\t\t\t\t\t\t\t\t\t\t\t\t\t\t\n",
    "\t\terr1 = abs(xk - xp) / abs(xk)\t\t\t\t\t\t\t\t\t\t\t\t\t\t\t\t\t\t\n",
    "\t\terr2 = abs(fxk)\t\t\t\t\t\t\t\t\t\t\t\t\t\t\t\t\t\t\n",
    "\t\terr = min(err1,err2)\t\t\t\t\t\t\t\t\t\t\t\t\t\t\t\t\t\t\n",
    "\t\t\t\t\t\t\t\t\t\t\t\t\t\t\t\t\t\t\t\t\t\t\t\t\t\t\t\t\t\t\t\t\t\t\n",
    "\t\t#print(k, x0, xp, xk, fxk, err, sep=\"\\t\")\t\t\t\t\t\t\t\t\t\t\t\t\t\t\n",
    "\t\tprint(f\"{k}\\t{x0:.7f}\\t{xp:.7f}\\t {xk:.10f}\\t{fxk:.10f}\\t{err:.8f}\")\t\t\t\t\t\t\t\t\n",
    "\t\tif ( fxk < TOL ):\t\t\t\t\t\t\t\t\t\t\t\t\t\t\t\t\t\t\t\t\n",
    "\t\t\t\tbreak\t\t\t\t\t\t\t\t\t\t\t\t\t\t\t\t\t\t\t\t\t\t\t\t\n",
    "\t\telif err < TOL:\t\t\t\t\t\t\t\t\t\t\t\t\t\t\t\t\t\t\t\t\t\t\n",
    "\t\t\t\tbreak\t\t\t\t\t\t\t\t\t\t\t\t\t\t\t\t\t\t\t\t\t\t\t\n",
    "\t\telif fx0 * fxk < 0:\t\t\t\t\t\t\t\t\t\t\t\t\t\t\t\t\t\t\t\t\t\t\t\n",
    "\t\t\t\tx1 = xk\t\t\t\t\t\t\t\t\t\t\t\t\t\t\t\t\t\t\t\t\t\t\t\n",
    "\t\t\t\tfx1 = fxk\t\t\t\t\t\t\t\t\t\t\t\t\t\t\t\t\t\t\t\t\t\t\t\n",
    "\t\telse:\t\t\t\t\t\t\t\t\t\t\t\t\t\t\t\t\t\t\t\t\t\t\t\t\t\t\t\t\n",
    "\t\t\t\tx0 = xk\t\t\t\t\t\t\t\t\t\t\t\t\t\t\t\t\t\t\t\t\t\t\t\t\n",
    "\t\t\t\tfx0 = fxk\t\t\t\t\t\t\t\t\t\t\t\t\t\t\t\t\t\t\t\t\t\t\t\t\n",
    "\t\t\t\t\t\t\t\t\t\t\t\t\t\t\t\t\t\t\t\t\t\t\t\t\t\t\t\t\t\t\t\t\t\t\n",
    "if err < TOL:\t\t\t\t\t\t\t\t\t\t\t\t\t\t\t\t\t\t\t\t\t\t\t\t\t\t\t\t\n",
    "\t\tprint(\"Required accuracy achieved; Solution is convergent\")\t\t\t\t\n",
    "else:\t\t\t\t\t\t\t\t\t\t\t\t\t\t\t\t\t\t\t\t\t\t\t\t\t\t\t\t\t\t\t\n",
    "\t\tprint(\"The Number of iterations exceeded the maximum limit.\")\n"
   ]
  },
  {
   "cell_type": "code",
   "execution_count": null,
   "id": "b2a6401c",
   "metadata": {},
   "outputs": [],
   "source": []
  }
 ],
 "metadata": {
  "kernelspec": {
   "display_name": "Python 3 (ipykernel)",
   "language": "python",
   "name": "python3"
  },
  "language_info": {
   "codemirror_mode": {
    "name": "ipython",
    "version": 3
   },
   "file_extension": ".py",
   "mimetype": "text/x-python",
   "name": "python",
   "nbconvert_exporter": "python",
   "pygments_lexer": "ipython3",
   "version": "3.9.7"
  }
 },
 "nbformat": 4,
 "nbformat_minor": 5
}
