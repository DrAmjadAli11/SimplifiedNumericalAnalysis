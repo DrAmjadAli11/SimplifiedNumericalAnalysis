{
 "cells": [
  {
   "cell_type": "code",
   "execution_count": 36,
   "id": "80424760",
   "metadata": {},
   "outputs": [
    {
     "name": "stdout",
     "output_type": "stream",
     "text": [
      "Node    x[i]        w[i]         Exact Sol         Relative Error\n",
      "0 \t 0.00 \t 0.5000000 \t 0.5000000 \t 0.00000000\n",
      "1 \t 0.10 \t 0.7000000 \t 0.7696076 \t 0.09044553\n",
      "2 \t 0.20 \t 1.0140000 \t 1.2157520 \t 0.16594832\n",
      "3 \t 0.30 \t 1.4956000 \t 1.9350950 \t 0.22711805\n",
      "4 \t 0.40 \t 2.2198400 \t 3.0718388 \t 0.27735792\n",
      "5 \t 0.50 \t 3.2917760 \t 4.8411081 \t 0.32003666\n",
      "6 \t 0.60 \t 4.8584864 \t 7.5638308 \t 0.35766855\n",
      "7 \t 0.70 \t 7.1258810 \t 11.7187755 \t 0.39192615\n",
      "8 \t 0.80 \t 10.3822333 \t 18.0201808 \t 0.42385521\n",
      "9 \t 0.90 \t 15.0311267 \t 27.5335655 \t 0.45407991\n",
      "10 \t 1.00 \t 21.6375774 \t 41.8484969 \t 0.48295449\n"
     ]
    }
   ],
   "source": [
    "from numpy import *\t\t\t\t\t\t\t\t\t\t\t\t\t\t\t\t\t\t\n",
    "\t\t\t\t\t\t\t\t\t\t\t\t\t\t\t\t\t\t\t\t\t\t\t\t\t\t\t\t\t\t\t\n",
    "a = 0.0\t\t# starting point of domain\t\t\t\t\t\t\t\n",
    "b = 1.0\t\t\t# ending point of domain\t\t\t\t\t\t\t\n",
    "alpha = 0.5  \t\t\t\t# initial condition\t\t\t\t\t\t\t\t\t\n",
    "m = 10  \t\t\t\t\t\t\t\t\t# number of steps\t\t\t\t\t\t\t\t\t\t\n",
    "\t\t\t\t\t\t\t\t\t\t\t\t\t\t\t\t\t\t\t\t\t\t\t\t\t\t\t\t\t\t\t\n",
    "def fval(x, y):\t\t\t\t\t\t\t\t\t\t\t\t\t\t\t\t\t\t\t\t\t\t\t\n",
    "\t\treturn 4 * y + 4 * x ** 2 + 3 * x\t\t\t\t\t\t\t\t\t\t\t\t\n",
    "\t\t\t\t\t\t\t\t\t\t\t\t\t\t\t\t\t\t\t\t\t\t\t\t\t\t\t\t\t\t\t\n",
    "def fexact(x):\t\t\t\t\t\t\t\t\t\t\t\t\t\t\t\t\t\t\t\t\t\t\n",
    "\t\treturn -x ** 2 - 1.2 * x - (5.0 / 16.0) + (13.0 / 16.0) * exp(4 * x)\t\t\n",
    "\t\t\t\t\t\t\t\t\t\t\t\t\t\t\t\t\t\t\t\t\t\t\t\t\t\t\t\t\t\t\t\n",
    "h = (b - a) / m\t\t\t\t\t\t\t\t\t\t\t\t\t\t\t\t\t\t\t\t\t\t\n",
    "x = zeros(m+1)\t\t\t\t\t\t\t\t\t\t\t\t\t\t\t\t\t\t\t\t\t\n",
    "w = zeros(m+1)\t\t\t\t\t\t\t\t\t\t\t\t\t\t\t\t\t\t\t\t\t\t\t\n",
    "\t\t\t\t\t\t\t\t\t\t\t\t\t\t\t\t\t\t\t\t\t\t\t\t\t\t\t\t\t\t\t\n",
    "x[0] = a\t\t\t\t\t\t\t\t\t\t\t\t\t\t\t\t\t\t\t\t\t\t\t\t\n",
    "for i in range(1,m+1):\t\t\t\t\t\t\t\t\t\t\t\t\t\t\t\t\t\t\t\t\t\t\t\n",
    "\t\tx[i] = x[i-1] + h\t\t\t\t\t\t\t\t\t\t\t\t\t\t\t\t\t\t\t\n",
    "\t\t\t\t\t\t\t\t\t\t\t\t\t\t\t\t\t\t\t\t\t\t\t\t\t\t\t\t\t\t\t\n",
    "w[0]= alpha\t\t\t# setting initial condition\t\t\t\t\t\t\t\t\t\n",
    "\t\t\t\t\t\t\t\t\t\t\t\t\t\t\t\t\t\t\t\t\t\t\t\t\t\t\t\t\t\t\t\n",
    "#------ Computing solutions with the Euler method ------ \t\t\t\t\t\t\n",
    "\t\t\t\t\t\t\t\t\t\t\t\t\t\t\t\t\t\t\t\t\t\t\t\t\t\t\t\t\t\t\t\n",
    "for i in range(1,m+1):\t\t\t\t\t\t\t\t\t\t\t\t\t\t\t\t\t\t\t\t\t\n",
    "\t\tfv = fval(x[i-1], w[i-1])\t\t\t\t\t\t\t\t\t\t\t\t\t\t\n",
    "\t\tw[i] = w[i-1] + h*fv\t\t\t\t\t\t\t\t\t\t\t\t\t\t\t\t\t\n",
    "\t\t\t\t\t\t\t\t\t\t\t\t\t\t\t\t\t\t\t\t\t\t\t\t\t\t\t\t\t\t\t\n",
    "# ----------------- Printing Solutions ----------------- \t\t\t\t\t\t\t\t\n",
    "print(\"Node    x[i]        w[i]         Exact Sol         Relative Error\")\t\t\t\t\t\t\t\t\n",
    "for i in range(0,m+1):\t\t\t\t\t\t\t\t\t\t\t\t\t\t\t\t\t\t\t\t\t\t\n",
    "\t\tsol = fexact(x[i])\t\t\t\t\t\t\t\t\t\t\t\t\t\t\t\t\t\t\n",
    "\t\terr = abs(sol-w[i]) / abs(sol)\t\t\t\t\t\t\t\t\t\t\t\t\t\t\t\t\t\n",
    "\t\t\t\t\t\t\t\t\t\t\t\t\t\t\t\t\t\t\t\t\t\t\t\t\t\t\t\t\t\t\t\n",
    "\t\tprint(i,\"\\t\",\"%.2f\" %x[i],\"\\t\",\"%.7f\" %w[i],\"\\t\",\"%.7f\" %sol,\"\\t\",\"%.8f\" %err)\n"
   ]
  },
  {
   "cell_type": "code",
   "execution_count": null,
   "id": "7e1c5314",
   "metadata": {},
   "outputs": [],
   "source": []
  }
 ],
 "metadata": {
  "kernelspec": {
   "display_name": "Python 3 (ipykernel)",
   "language": "python",
   "name": "python3"
  },
  "language_info": {
   "codemirror_mode": {
    "name": "ipython",
    "version": 3
   },
   "file_extension": ".py",
   "mimetype": "text/x-python",
   "name": "python",
   "nbconvert_exporter": "python",
   "pygments_lexer": "ipython3",
   "version": "3.9.7"
  }
 },
 "nbformat": 4,
 "nbformat_minor": 5
}
