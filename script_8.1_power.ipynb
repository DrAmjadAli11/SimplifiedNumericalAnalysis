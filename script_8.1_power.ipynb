{
 "cells": [
  {
   "cell_type": "code",
   "execution_count": 32,
   "id": "f6c9858a",
   "metadata": {},
   "outputs": [
    {
     "name": "stdout",
     "output_type": "stream",
     "text": [
      "iter.     x1             x2             x3             Error\n",
      "1        0.5        0.7        1.0       0.58309519\n",
      "2        0.45762712        0.76271186        1.0       0.07568513\n",
      "3        0.45266272        0.82544379        1.0       0.06292805\n",
      "4        0.45297407        0.86476868        1.0       0.03932613\n",
      "5        0.45364467        0.88635189        1.0       0.02159362\n",
      "6        0.45407402        0.89758818        1.0       0.01124449\n",
      "7        0.45430583        0.90330849        1.0       0.005725\n",
      "8        0.4544249        0.90619235        1.0       0.00288632\n",
      "9        0.45448503        0.90763986        1.0       0.00144876\n",
      "10        0.45451521        0.90836496        1.0       0.00072572\n",
      "11        0.45453033        0.90872783        1.0       0.00036319\n",
      "12        0.45453789        0.90890934        1.0       0.00018167\n",
      "13        0.45454167        0.90900012        1.0       9.086e-05\n",
      "14        0.45454356        0.90904551        1.0       4.543e-05\n",
      "15        0.45454451        0.90906821        1.0       2.272e-05\n",
      "16        0.45454498        0.90907956        1.0       1.136e-05\n",
      "17        0.45454522        0.90908523        1.0       5.68e-06\n",
      "The approximate dominant eigenvalue is 5.999973990927526\n",
      "The corresponding eigenvector is:\n",
      "0.4545452180983257      0.9090852343592931      1.0      \n",
      "The desire accuracy is achieved; Solution convergent\n"
     ]
    }
   ],
   "source": [
    "from numpy import *\t\t\t\t\t\t\t\t\t\t\t\t\t\t\t\t\n",
    "\t\t\t\t\t\t\t\t\t\t\t\t\t\t\t\t\t\t\t\t\t\t\t\t\t\t\t\t\n",
    "N = 100\t\t\t\t\t\t\t\t\t\t\t\t\t\t\t\t\n",
    "TOL = 0.00001\t\t\t\t\t\t\t\t\t\t\t\t\t\t\t\t\t\t\n",
    "n = 3\t\t\t\t\t\t\t\t\t\t\t\t\t\t\t\t\t\t\t\t\t\n",
    "a = [[4, 1, 0], [2, 5, 0], [7, 2, 1]]\t\t\t\t\t\t\t\t\t\t\t\n",
    "x = [1, 1, 1]\t\t\t\t\t\t\t\t\t\t\t\t\t\n",
    "\t\t\t\t\t\t\t\t\t\t\t\t\t\t\t\t\t\t\t\t\t\t\t\t\t\t\t\t\n",
    "xp = zeros(n)\t\t\t\t\t\t\t\t\t\t\t\t\t\t\t\t\n",
    "print(\"iter.     x1             x2             x3             Error\")\t\n",
    "\t\t\t\t\t\t\t\t\t\t\t\t\t\t\t\t\t\t\t\t\t\t\t\t\t\t\t\t\n",
    "for k in range(1,N+1):\t\t\t\t\t\t\t\t\t\t\t\t\t\t\t\t\t\n",
    "\t\tprint(k, end=\" \")\t\t\t\t\t\t\t\t\t\t\t\t\n",
    "\t\tfor i in range(n):\t\t\t\t\t\t\t\t\t\t\t\t\n",
    "\t\t\t\txp[i] = x[i]\t\t\t\t\t\t\t\t\t\t\t\t\t\t\n",
    "\t\tfor i in range(n):\t\t\t\t\t\t\t\t\t\t\t\t\t\t\t\t\t\n",
    "\t\t\t\tsum = 0\t\t\t\t\t\t\t\t\t\t\t\t\t\t\t\t\t\n",
    "\t\t\t\tfor j in range(n):\t\t\t\t\t\t\t\t\t\t\t\t\t\t\t\t\n",
    "\t\t\t\t\t\tsum = sum + a[i][j] * xp[j]\t\t\t\t\t\t\t\t\t\n",
    "\t\t\t\tx[i] = sum\t\t\t\t\t\t\t\t\t\t\t\t\t\t\t\t\t\n",
    "\t\t\t\t\t\t\t\t\t\t\t\t\t\t\t\t\t\t\t\t\t\t\t\t\t\t\t\t\n",
    "\t\tr = 0\t\t\t\t\t\t\t\t\t\t\t\t\t\t\t\t\t\t\t\t\t\n",
    "\t\tfor i in range(n):\t\t\t\t\t\t\t\t\t\t\t\t\t\t\t\t\t\n",
    "\t\t\t\tif abs(x[i]) > abs(x[r]):\t\t\t\t\t\t\t\t\t\n",
    "\t\t\t\t\t\tr = i\t\t\t\t\t\t\t\t\t\t\t\t\t\t\t\t\t\n",
    "\t\t\t\t\t\t\t\t\t\t\t\t\t\t\t\t\t\t\t\t\t\t\t\t\t\t\t\t\n",
    "\t\tB = x[r]\t\t\t\t\t\t\t\t\t\t\t\t\t\t\t\t\t\t\t\t\n",
    "\t\tfor i in range(n):\t\t\t\t\t\t\t\t\t\t\t\t\t\t\t\t\n",
    "\t\t\t\tx[i] = x[i] / B\t\t\t\t\t\t\t\t\t\t\t\t\t\t\t\n",
    "\t\t\t\tprint(\"      \", round(x[i], 8), end=\" \")\t\t\t\t\t\t\t\t\n",
    "\t\t\t\t\t\t\t\t\t\t\t\t\t\t\t\t\t\t\t\t\t\t\t\t\t\t\t\t\n",
    "#Computing the error as L2-Norm\t\t\t\t\t\t\t\t\t\t\n",
    "\t\tsum1 = 0\t\t\t\t\t\t\t\t\t\t\t\t\t\t\t\t\t\t\t\n",
    "\t\tfor i in range(n):\t\t\t\t\t\t\t\t\t\t\t\t\t\t\t\t\n",
    "\t\t\t\tsum1 = sum1 + (x[i] - xp[i]) * (x[i] - xp[i])\t\n",
    "\t\terr = sqrt(sum1)\t\t\t\t\t\t\t\t\t\t\t\t\t\t\t\t\t\n",
    "\t\tprint(\"     \",round(err,8))\t\t\t\t\t\t\t\t\t\t\t\t\t\t\t\t\n",
    "\t\tif err < TOL:\t\t\t\t\t\t\t\t\t\t\t\t\t\t\t\n",
    "\t\t\t\tbreak\t\t\t\t\t\t\t\t\t\t\t\t\t\t\t\n",
    "\t\t\t\t\t\t\t\t\t\t\t\t\t\t\t\t\t\t\t\t\t\t\t\t\t\t\t\t\n",
    "print(\"The approximate dominant eigenvalue is\", B)\t\t\t\t\t\t\t\t\t\n",
    "print(\"The corresponding eigenvector is:\")\t\t\t\t\t\t\t\t\t\n",
    "\t\t\t\t\t\t\t\t\t\t\t\t\t\t\t\t\t\t\t\t\t\t\t\t\t\t\t\t\n",
    "for i in range(n):\t\t\t\t\t\t\t\t\t\t\t\t\t\t\t\t\t\t\n",
    "\t\tprint(x[i], \"    \",end=\" \")\t\t\t\t\t\t\t\t\t\t\t\t\t\t\n",
    "\t\t\t\t\t\t\t\t\t\t\t\t\t\t\t\t\t\t\t\t\t\t\t\t\t\t\t\t\n",
    "if err < TOL:\t\t\t\t\t\t\t\t\t\t\t\t\t\t\t\t\t\t\t\t\t\n",
    "\t\tprint(\"\\nThe desire accuracy is achieved; Solution convergent\")\n",
    "else:\t\t\t\t\t\t\t\t\t\t\t\t\t\t\t\t\t\t\t\t\t\t\t\n",
    "\t\tprint(\"\\nThe number of iteration exceeded the maximum limit\")\n"
   ]
  },
  {
   "cell_type": "code",
   "execution_count": null,
   "id": "06a214b4",
   "metadata": {},
   "outputs": [],
   "source": []
  }
 ],
 "metadata": {
  "kernelspec": {
   "display_name": "Python 3 (ipykernel)",
   "language": "python",
   "name": "python3"
  },
  "language_info": {
   "codemirror_mode": {
    "name": "ipython",
    "version": 3
   },
   "file_extension": ".py",
   "mimetype": "text/x-python",
   "name": "python",
   "nbconvert_exporter": "python",
   "pygments_lexer": "ipython3",
   "version": "3.9.7"
  }
 },
 "nbformat": 4,
 "nbformat_minor": 5
}
