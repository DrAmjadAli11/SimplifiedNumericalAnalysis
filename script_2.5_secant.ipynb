{
 "cells": [
  {
   "cell_type": "code",
   "execution_count": 9,
   "id": "69174958",
   "metadata": {},
   "outputs": [
    {
     "name": "stdout",
     "output_type": "stream",
     "text": [
      "Enter the first initial approximation: 0\n",
      "Enter the second initial approximation: 1\n",
      "k                 xk                f(xk)                 Error\n",
      "2\t 0.3201855379035207\t0.2181015285252024\t2.123189156349\n",
      "3\t 0.2423578458166424\t-0.0648264842999824\t0.321127182100\n",
      "4\t 0.2601902817383949\t0.0008486682977629\t0.068536133643\n",
      "5\t 0.2599598472066112\t0.0000031249088128\t0.000886423554\n",
      "6\t 0.2599589955804161\t-0.0000000001530542\t0.000003276002\n",
      "7\t 0.2599589956221257\t0.0000000000000000\t0.000000000160\n",
      "Required accuracy achieved; Solution is convergent.\n"
     ]
    }
   ],
   "source": [
    "from numpy import *\t\t\t\t\t\t\t\t\t\t\t\t\t\t\t\t\t\t\t\t\t\n",
    "N = 500                   # setting the maximum number of iterations\t\t\t\t\t\t\t\t\t\t\t\n",
    "TOL = 0.000001        # setting the tolerance\t\t\t\t\t\t\t\t\t\t\t\t\t\n",
    "\t\t\t\t\t\t\t\t\t\t\t\t\t\t\t\t\t\t\t\t\t\t\t\t\t\t\t\t\t\t\t\t\t\t\n",
    "def fval(x):\t\t\t\t\t\t\t\t\t\t\t\t\t\t\t\t\t\t\t\t\t\t\t\t\t\t\t\n",
    "\t\ty = 4 * x + sin(x) - exp(x)\t\t\t\t\t\t\t\t\t\t\t\t\t\t\n",
    "\t\treturn (y)\t\t\t\t\t\t\t\t\t\t\t\t\t\t\t\t\t\t\t\t\t\t\t\t\t\t\n",
    "\t\t\t\t\t\t\t\t\t\t\t\t\t\t\t\t\t\t\t\t\t\t\t\t\t\t\t\t\t\t\t\t\t\t\n",
    "a = float(input(\"Enter the first initial approximation: \"))\t\t\t\n",
    "b = float(input(\"Enter the second initial approximation: \"))\t\t\t\n",
    "xk = b\t\t\t\n",
    "x0 = a\t\t\t\n",
    "x1 = b\t\t\t\n",
    "fx0 = fval(x0)\t\t\t\n",
    "fx1 = fval(x1)\t\t\t\n",
    "print(\"k                 xk                f(xk)                 Error\")\t\t\n",
    "\t\t\t\t\t\t\t\t\t\t\t\t\t\t\t\t\t\t\t\t\t\t\t\t\t\t\t\t\t\t\t\t\t\t\n",
    "for k in range(2,N+2):\t\t\t\t\t\t\t\t\t\t\t\t\t\t\t\t\t\t\t\n",
    "\t\txp = xk\t\t\t\t\t\t\t\t\t\t\t\t\t\t\t\t\t\t\t\t\t\t\t\t\n",
    "\t\txk = x1 - (fx1 * (x1 - x0)) / (fx1 - fx0)\t\t\t\t\t\t\t\t\t\t\t\t\t\t\n",
    "\t\t\t\t\t\t\t\t\t\t\t\t\t\t\t\t\t\t\t\t\t\t\t\t\t\n",
    "\t\tfxk = fval(xk)\t\t\t\t\t\t\t\t\t\t\t\t\t\t\t\t\t\t\t\t\t\t\t\n",
    "\t\t\t\t\t\t\t\t\t\t\t\t\t\t\t\t\t\t\t\t\t\t\t\t\t\t\t\t\t\t\t\t\t\t\n",
    "\t\terr = abs(xk - xp)/abs(xk)\t\t\t\t\t\t\t\t\t\t\t\t\t\t\t\t\t\t\n",
    "\t\t\t\t\t\t\t\t\t\t\t\t\t\t\t\t\t\t\t\t\t\t\t\t\t\t\t\t\t\t\t\t\t\t\n",
    "\t\t#print(k, xk, fxk, err, sep=\"            \")\t\t\t\t\t\t\t\t\t\t\t\t\t\t\n",
    "\t\tprint(f\"{k}\\t {xk:.16f}\\t{fxk:.16f}\\t{err:.12f}\")\t\t\t\t\t\t\t\n",
    "\t\t\t\t\t\t\t\t\t\t\t\t\t\t\t\t\t\t\t\t\t\t\t\t\t\t\t\n",
    "\t\tif err < TOL:\t\t\t\t\t\t\t\t\t\t\t\t\t\t\t\t\t\t\t\t\t\t\t\t\t\n",
    "\t\t\t\tbreak\t\t\t\t\t\t\t\t\t\t\t\t\t\t\t\t\t\t\t\t\t\t\t\t\n",
    "\t\telse:\t\t\t\t\t\t\t\t\t\t\t\t\t\t\t\t\t\t\t\t\t\t\t\t\t\t\t\t\t\t\n",
    "\t\t\t\tx0 = x1\t\t\t\t\t\t\t\t\t\t\t\t\t\t\t\t\t\t\t\t\t\t\t\n",
    "\t\t\t\tfx0 = fx1\t\t\t\t\t\t\t\t\t\t\t\t\t\t\t\t\t\t\t\t\t\t\t\n",
    "\t\t\t\tx1 = xk\t\t\t\t\t\t\t\t\t\t\t\t\t\t\t\t\t\t\t\t\t\t\t\n",
    "\t\t\t\tfx1 = fxk\t\t\t\t\t\t\t\t\t\t\t\t\t\t\t\t\t\t\t\t\t\t\t\n",
    "\t\t\t\t\t\t\t\t\t\t\t\t\t\t\t\t\t\t\t\t\t\t\t\t\t\t\t\t\t\t\t\t\t\t\n",
    "if err < TOL:\t\t\t\t\t\t\t\t\t\t\t\t\t\t\t\t\t\t\t\t\t\t\t\t\t\t\t\t\n",
    "\t\tprint(\"Required accuracy achieved; Solution is convergent.\")\t\t\t\t\n",
    "else:\t\t\t\t\t\t\t\t\t\t\t\t\t\t\t\t\t\t\t\t\t\t\t\t\t\t\t\t\t\t\t\n",
    "\t\tprint(\"The Number of iterations exceeded the maximum limit.\")\n"
   ]
  },
  {
   "cell_type": "code",
   "execution_count": null,
   "id": "d8318e04",
   "metadata": {},
   "outputs": [],
   "source": []
  }
 ],
 "metadata": {
  "kernelspec": {
   "display_name": "Python 3 (ipykernel)",
   "language": "python",
   "name": "python3"
  },
  "language_info": {
   "codemirror_mode": {
    "name": "ipython",
    "version": 3
   },
   "file_extension": ".py",
   "mimetype": "text/x-python",
   "name": "python",
   "nbconvert_exporter": "python",
   "pygments_lexer": "ipython3",
   "version": "3.9.7"
  }
 },
 "nbformat": 4,
 "nbformat_minor": 5
}
