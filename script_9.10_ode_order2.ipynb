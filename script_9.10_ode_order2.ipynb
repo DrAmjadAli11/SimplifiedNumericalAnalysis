{
 "cells": [
  {
   "cell_type": "code",
   "execution_count": 50,
   "id": "b77dac92",
   "metadata": {},
   "outputs": [
    {
     "name": "stdout",
     "output_type": "stream",
     "text": [
      "Node       x[i]        w1[i]         w2[i]\n",
      "0 \t 1.00 \t 0.5000000 \t -0.5000000\n",
      "1 \t 1.02 \t 0.4897001 \t -0.5299800\n",
      "2 \t 1.04 \t 0.4788016 \t -0.5598408\n",
      "3 \t 1.06 \t 0.4673080 \t -0.5894651\n",
      "4 \t 1.08 \t 0.4552253 \t -0.6187399\n",
      "5 \t 1.10 \t 0.4425615 \t -0.6475576\n"
     ]
    }
   ],
   "source": [
    "from numpy import *\t\t\t\t\t\t\t\t\t\t\t\t\t\t\t\t\t\t\n",
    "\t\t\t\t\t\t\t\t\t\t\t\t\t\t\t\t\t\t\t\t\t\t\t\t\t\t\t\t\t\t\t\n",
    "a = 1.0\t\t# starting point of domain\t\t\t\t\t\t\t\n",
    "b = 1.1\t\t\t# ending point of domain\t\t\t\t\t\t\t\n",
    "alpha1 = 0.5\t\t\t\t# initial condition\t\t\t\t\t\t\t\t\t\n",
    "alpha2 = -0.5\t\t\t\t\t\t\t\t\t\t\t\t\t\n",
    "m = 5  \t\t\t\t\t\t\t\t\t# number of steps\t\t\t\t\t\t\t\t\t\t\n",
    "\t\t\t\t\t\t\t\t\t\t\t\t\t\t\t\t\t\t\t\t\t\t\t\t\t\t\t\t\t\t\t\n",
    "def f1(x, y1, y2):\t\t\t\t\t\t\t\t\t\t\t\t\t\t\t\t\t\t\t\t\t\t\t\n",
    "\t\treturn y2 \t\t\t\t\t\t\t\t\t\t\t\t\n",
    "\t\t\t\t\t\t\t\t\t\t\t\t\t\t\t\t\t\t\t\t\t\t\t\t\t\t\t\t\t\t\t\n",
    "def f2(x, y1, y2):\t\t\t\t\t\t\t\t\t\t\t\t\t\t\t\t\t\t\t\t\t\t\n",
    "\t\treturn (y2 - 8 * x * x * x * y1 * y1 * y1) / x\t\t\n",
    "\t\t\t\t\t\t\t\t\t\t\t\t\t\t\t\t\t\t\t\t\t\t\t\t\t\t\t\t\t\t\t\n",
    "# Define the RK4 solver for the ODE system of two equations\t\t\t\t\t\t\n",
    "\t\t\t\t\t\t\t\t\t\t\t\t\t\t\t\t\t\t\t\t\t\t\t\t\t\t\t\t\t\t\t\n",
    "def rk4system2(x, w1, w2, h):\t\t\t\t\t\t\t\t\t\t\t\t\t\t\t\t\t\t\n",
    "\t\tfor i in range(1, m + 1):\t\t\t\t\t\t\t\t\t\t\t\t\t\t\t\t\n",
    "\t\t\t\tk11 = h * f1(x[i - 1], w1[i - 1], w2[i - 1])\t\t\t\t\t\t\t\t\t\t\n",
    "\t\t\t\tk21 = h * f2(x[i -1], w1[i - 1], w2[i - 1])\t\t\t\t\t\t\t\t\t\t\n",
    "\t\t\t\t\t\t\t\t\t\t\t\t\t\t\t\t\t\t\t\t\t\t\t\t\t\t\t\t\t\t\t\n",
    "\t\t\t\tk12 = h * f1(x[i - 1] + 0.5 * h, w1[i - 1] + 0.5 * k11, w2[i - 1] + 0.5 * k21)\t\n",
    "\t\t\t\tk22 = h * f2(x[i - 1] + 0.5 * h, w1[i - 1] + 0.5 * k11, w2[i - 1] + 0.5 * k21)\t\n",
    "\t\t\t\t\t\t\t\t\t\t\t\t\t\t\t\t\t\t\t\t\t\t\t\t\t\t\t\t\t\t\t\n",
    "\t\t\t\tk13 = h * f1(x[i - 1] + 0.5 * h, w1[i - 1] + 0.5 * k12, w2[i - 1] + 0.5 * k22)\t\t\t\n",
    "\t\t\t\tk23 = h * f2(x[i - 1] + 0.5 * h, w1[i - 1] + 0.5 * k12, w2[i - 1] + 0.5 * k22)\t\t\t\n",
    "\t\t\t\t\t\t\t\t\t\t\t\t\t\t\t\t\t\t\t\t\t\t\t\t\t\t\t\t\t\t\t\n",
    "\t\t\t\tk14 = h * f1(x[i - 1] + h, w1[i - 1] + k13, w2[i - 1] + k23)\t\t\t\n",
    "\t\t\t\tk24 = h * f2(x[i - 1] + h, w1[i - 1] + k13, w2[i - 1] + k23)\t\t\t\n",
    "\t\t\t\t\t\t\t\t\t\t\t\t\t\t\t\t\t\t\t\t\t\t\t\t\t\t\t\t\t\t\t\n",
    "\t\t\t\tw1[i] = w1[i - 1] + (k11 + 2 * k12 + 2 * k13 + k14) / 6.0\t\t\t\t\n",
    "\t\t\t\tw2[i] = w2[i - 1] + (k21 + 2 * k22 + 2 * k23 + k24) / 6.0\t\t\t\t\n",
    "\t\t\t\t\t\t\t\t\t\t\t\t\t\t\t\t\t\t\t\t\t\t\t\t\t\t\t\t\t\t\t\n",
    "h = (b - a) / m\t\t\t\t\t\t\t\t\t\t\t\t\t\t\t\t\t\t\t\t\t\t\n",
    "x = zeros(m+1)\t\t\t\t\t\t\t\t\t\t\t\t\t\t\t\t\t\t\t\t\t\n",
    "w1 = zeros(m+1)\t\t\t\t\t\t\t\t\t\t\t\t\t\t\t\t\t\t\t\t\t\t\t\n",
    "w2 = zeros(m+1)\t\t\t\t\t\t\t\t\t\t\t\t\t\t\t\t\t\t\t\t\t\t\t\n",
    "w1[0] = alpha1\t\t\t# setting initial condition\t\t\t\t\t\t\t\t\t\n",
    "w2[0] = alpha2\t\t\t\t\t\t\t\t\t\t\t\t\n",
    "\t\t\t\t\t\t\t\t\t\t\t\t\t\t\t\t\t\t\t\t\t\t\t\t\t\t\t\t\t\t\t\n",
    "x[0] = a\t\t\t\t\t\t\t\t\t\t\t\t\t\t\t\t\t\t\t\t\t\t\t\t\n",
    "x[m] = b\t\t\t\t\t\t\t\t\t\t\t\t\t\t\t\t\t\t\t\t\t\t\t\t\t\n",
    "\t\t\t\t\t\t\t\t\t\t\t\t\t\t\t\t\t\t\t\t\t\t\t\t\t\t\t\t\t\t\t\n",
    "for i in range(1, m):\t\t\t\t\t\t\t\t\t\t\t\t\t\t\t\t\t\t\t\t\t\t\t\n",
    "\t\tx[i] = x[i - 1] + h\t\t\t\t\t\t\t\t\t\t\t\t\t\t\t\t\t\t\t\t\t\t\n",
    "\t\t\t\t\t\t\t\t\t\t\t\t\t\t\t\t\t\t\t\t\t\t\t\t\t\t\t\t\t\t\t\n",
    "# Call the RK4 solver\t\t\t\t\t\t\t\t\t\t\t\t\t\t\t\t\t\n",
    "\t\t\t\t\t\t\t\t\t\t\t\t\t\t\t\t\t\t\t\t\t\t\t\t\t\t\t\t\t\t\t\n",
    "rk4system2(x, w1, w2, h)\t\t\t\t\t\t\t\t\t\t\t\t\t\t\t\t\t\t\t\t\n",
    "\t\t\t\t\t\t\t\t\t\t\t\t\t\t\t\t\t\t\t\t\t\t\t\t\t\t\t\t\t\t\t\n",
    "# ----------------- Printing Solutions ----------------- \t\t\t\t\t\t\t\t\n",
    "print(\"Node       x[i]        w1[i]         w2[i]\")\t\t\t\t\t\t\t\t\n",
    "for i in range(0,m+1):\t\t\t\t\t\t\t\t\t\t\t\t\t\t\t\t\t\t\t\t\t\t\n",
    "\t\tprint(i,\"\\t\",\"%.2f\" %x[i],\"\\t\",\"%.7f\" %w1[i],\"\\t\",\"%.7f\" % w2[i])\n"
   ]
  },
  {
   "cell_type": "code",
   "execution_count": null,
   "id": "302a5863",
   "metadata": {},
   "outputs": [],
   "source": []
  }
 ],
 "metadata": {
  "kernelspec": {
   "display_name": "Python 3 (ipykernel)",
   "language": "python",
   "name": "python3"
  },
  "language_info": {
   "codemirror_mode": {
    "name": "ipython",
    "version": 3
   },
   "file_extension": ".py",
   "mimetype": "text/x-python",
   "name": "python",
   "nbconvert_exporter": "python",
   "pygments_lexer": "ipython3",
   "version": "3.9.7"
  }
 },
 "nbformat": 4,
 "nbformat_minor": 5
}
