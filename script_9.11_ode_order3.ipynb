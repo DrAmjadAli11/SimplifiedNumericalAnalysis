{
 "cells": [
  {
   "cell_type": "code",
   "execution_count": 51,
   "id": "3ce5dcc4",
   "metadata": {},
   "outputs": [
    {
     "name": "stdout",
     "output_type": "stream",
     "text": [
      "Node       x[i]        w1[i]         w2[i]        w3[i]\n",
      "0 \t 0.00 \t 2.0000000 \t -1.0000000 \t 8.00000000\n",
      "1 \t 0.40 \t 2.2144000 \t 2.0592000 \t 7.98400000\n",
      "2 \t 0.80 \t 3.7553715 \t 5.9235814 \t 12.16498688\n",
      "3 \t 1.20 \t 7.3178564 \t 12.5912247 \t 22.55617331\n",
      "4 \t 1.60 \t 14.6281541 \t 25.4339096 \t 44.28844810\n",
      "5 \t 2.00 \t 29.2965237 \t 50.8850897 \t 88.16040310\n"
     ]
    }
   ],
   "source": [
    "from numpy import *\t\t\t\t\t\t\t\t\t\t\t\t\t\t\t\t\t\t\n",
    "\t\t\t\t\t\t\t\t\t\t\t\t\t\t\t\t\t\t\t\t\t\t\t\t\t\t\t\t\t\t\t\n",
    "a = 0.0\t\t# starting point of domain\t\t\t\t\t\t\t\n",
    "b = 2.0\t\t\t# ending point of domain\t\t\t\t\t\t\t\n",
    "alpha1 = 2.0\t\t\t\t# initial condition\t\t\t\t\t\t\t\t\t\n",
    "alpha2 = -1.0\t\t\t\t\t\t\t\t\t\t\t\t\t\n",
    "alpha3 = 8.0\t\t\t\t\t\t\t\t\t\t\t\t\t\n",
    "m = 5  \t\t\t\t\t\t\t\t\t# number of steps\t\t\t\t\t\t\t\t\t\t\n",
    "\t\t\t\t\t\t\t\t\t\t\t\t\t\t\t\t\t\t\t\t\t\t\t\t\t\t\t\t\t\t\t\n",
    "def f1(x, y, z1, z2):\t\t\t\t\t\t\t\t\t\t\t\t\t\t\t\t\t\t\t\t\t\t\t\n",
    "\t\treturn z1\t\t\t\t\t\t\t\t\t\t\t\t\n",
    "\t\t\t\t\t\t\t\t\t\t\t\t\t\t\t\t\t\t\t\t\t\t\t\t\t\t\t\t\t\t\t\n",
    "def f2(x, y, z1, z2):\t\t\t\t\t\t\t\t\t\t\t\t\t\t\t\t\t\t\t\t\t\t\n",
    "\t\treturn z2\t\t\n",
    "\t\t\t\t\t\t\t\t\t\t\t\t\t\t\t\t\t\t\t\t\t\t\t\t\t\t\t\t\t\t\t\n",
    "def f3(x, y, z1, z2):\t\t\t\t\t\t\t\t\t\t\t\t\t\t\t\t\t\t\t\t\n",
    "\t\treturn -z2 + 3 * z1 + 3 * y\t\t\t\t\t\t\t\t\t\t\t\t\t\t\t\t\n",
    "\t\t\t\t\t\t\t\t\t\t\t\t\t\t\t\t\t\t\t\t\t\t\t\t\t\t\t\t\t\t\t\n",
    "# Define the RK4 solver for the ODE system\t\t\t\t\t\t\n",
    "\t\t\t\t\t\t\t\t\t\t\t\t\t\t\t\t\t\t\t\t\t\t\t\t\t\t\t\t\t\t\t\n",
    "def rk4system3(x, w1, w2, w3, h):\t\t\t\t\t\t\t\t\t\t\t\t\t\t\t\t\t\t\n",
    "\t\tfor i in range(1, m + 1):\t\t\t\t\t\t\t\t\t\t\t\t\t\t\t\t\n",
    "\t\t\t\tk11 = h * f1(x[i-1], w1[i-1], w2[i-1], w3[i-1])\t\t\t\t\t\t\t\t\t\t\n",
    "\t\t\t\tk21 = h * f2(x[i-1], w1[i-1], w2[i-1], w3[i-1])\t\t\t\t\t\t\t\t\t\t\n",
    "\t\t\t\tk31 = h * f3(x[i-1], w1[i-1], w2[i-1], w3[i-1])\t\t\t\t\t\t\t\t\t\t\n",
    "\t\t\t\t\t\t\t\t\t\t\t\t\t\t\t\t\t\t\t\t\t\t\t\t\t\t\t\t\t\t\t\n",
    "\t\t\t\tk12 = h * f1(x[i-1] + 0.5 * h, w1[i-1] + 0.5 * k11, w2[i-1] + 0.5 * k21, \n",
    "w3[i-1] + 0.5 * k31)\t\n",
    "\t\t\t\tk22 = h * f2(x[i-1] + 0.5 * h, w1[i-1] + 0.5 * k11, w2[i-1] + 0.5 * k21, \n",
    "w3[i-1] + 0.5 * k31)\t\n",
    "\t\t\t\tk32 = h * f3(x[i-1] + 0.5 * h, w1[i-1] + 0.5 * k11, w2[i-1] + 0.5 * k21,\n",
    " w3[i-1] + 0.5 * k31)\t\n",
    "\t\t\t\t\t\t\t\t\t\t\t\t\t\t\t\t\t\t\t\t\t\t\t\t\t\t\t\t\t\t\t\n",
    "\t\t\t\tk13 = h * f1(x[i-1] + 0.5 * h, w1[i-1] + 0.5 * k12, w2[i-1] + 0.5 * k22, w3[i-1] + 0.5 * k32)\t\t\t\n",
    "\t\t\t\tk23 = h * f2(x[i-1] + 0.5 * h, w1[i-1] + 0.5 * k12, w2[i-1] + 0.5 * k22, w3[i-1] + 0.5 * k32)\t\t\t\n",
    "\t\t\t\tk33 = h * f3(x[i-1] + 0.5 * h, w1[i-1] + 0.5 * k12, w2[i-1] + 0.5 * k22, w3[i-1] + 0.5 * k32)\t\t\t\n",
    "\t\t\t\t\t\t\t\t\t\t\t\t\t\t\t\t\t\t\t\t\t\t\t\t\t\t\t\t\t\t\t\n",
    "\t\t\t\tk14 = h * f1(x[i-1] + h, w1[i-1] + k13, w2[i-1] + k23, w3[i-1] + k33)\t\t\t\n",
    "\t\t\t\tk24 = h * f2(x[i-1] + h, w1[i-1] + k13, w2[i-1] + k23, w3[i-1] + k33)\t\t\t\n",
    "\t\t\t\tk34 = h * f3(x[i-1] + h, w1[i-1] + k13, w2[i-1] + k23, w3[i-1] + k33)\t\t\t\n",
    "\t\t\t\t\t\t\t\t\t\t\t\t\t\t\t\t\t\t\t\t\t\t\t\t\t\t\t\t\t\t\t\n",
    "\t\t\t\tw1[i] = w1[i-1] + (k11 + 2 * k12 + 2 * k13 + k14) / 6.0\t\t\t\t\n",
    "\t\t\t\tw2[i] = w2[i-1] + (k21 + 2 * k22 + 2 * k23 + k24) / 6.0\t\t\t\t\n",
    "\t\t\t\tw3[i] = w3[i-1] + (k31 + 2 * k32 + 2 * k33 + k34) / 6.0\t\t\t\t\t\n",
    "\t\t\t\t\t\t\t\t\t\t\t\t\t\t\t\t\t\t\t\t\t\t\t\t\t\t\t\t\t\t\t\n",
    "h = (b - a) / m\t\t\t\t\t\t\t\t\t\t\t\t\t\t\t\t\t\t\t\t\t\t\n",
    "x = linspace(a, b, m+1)\t\t\t\t\t\t\t\t\t\t\t\t\t\t\t\t\t\t\t\t\t\n",
    "w1 = zeros(m+1)\t\t\t\t\t\t\t\t\t\t\t\t\t\t\t\t\t\t\t\t\t\t\t\n",
    "w2 = zeros(m+1)\t\t\t\t\t\t\t\t\t\t\t\t\t\t\t\t\t\t\t\t\t\t\t\n",
    "w3 = zeros(m+1)\t\t\t\t\t\t\t\t\t\t\t\t\t\t\t\t\t\t\t\t\t\t\t\n",
    "w1[0] = alpha1\t\t\t# setting initial condition\t\t\t\t\t\t\t\t\t\n",
    "w2[0] = alpha2\t\t\t\t\t\t\t\t\t\t\t\t\n",
    "w3[0] = alpha3\t\t\t\t\t\t\t\t\t\t\t\t\n",
    "\t\t\t\t\t\t\t\t\t\t\t\t\t\t\t\t\t\t\t\t\t\t\t\t\t\t\t\t\t\t\t\n",
    "# Call the RK4 solver\t\t\t\t\t\t\t\t\t\t\t\t\t\t\t\t\t\n",
    "\t\t\t\t\t\t\t\t\t\t\t\t\t\t\t\t\t\t\t\t\t\t\t\t\t\t\t\t\t\t\t\n",
    "rk4system3(x, w1, w2, w3, h)\t\t\t\t\t\t\t\t\t\t\t\t\t\t\t\t\t\t\t\t\n",
    "\t\t\t\t\t\t\t\t\t\t\t\t\t\t\t\t\t\t\t\t\t\t\t\t\t\t\t\t\t\t\t\n",
    "# ----------------- Printing Solutions ----------------- \t\t\t\t\t\t\t\t\n",
    "print(\"Node       x[i]        w1[i]         w2[i]        w3[i]\")\t\t\t\t\t\t\t\t\n",
    "for i in range(0,m+1):\t\t\t\t\t\t\t\t\t\t\t\t\t\t\t\t\t\t\t\t\t\t\n",
    "\t\tprint(i,\"\\t\",\"%.2f\" %x[i],\"\\t\",\"%.7f\" %w1[i],\"\\t\",\"%.7f\" % w2[i],\"\\t\",\"%.8f\" % w3[i])\n"
   ]
  },
  {
   "cell_type": "code",
   "execution_count": null,
   "id": "b4ff9215",
   "metadata": {},
   "outputs": [],
   "source": []
  }
 ],
 "metadata": {
  "kernelspec": {
   "display_name": "Python 3 (ipykernel)",
   "language": "python",
   "name": "python3"
  },
  "language_info": {
   "codemirror_mode": {
    "name": "ipython",
    "version": 3
   },
   "file_extension": ".py",
   "mimetype": "text/x-python",
   "name": "python",
   "nbconvert_exporter": "python",
   "pygments_lexer": "ipython3",
   "version": "3.9.7"
  }
 },
 "nbformat": 4,
 "nbformat_minor": 5
}
