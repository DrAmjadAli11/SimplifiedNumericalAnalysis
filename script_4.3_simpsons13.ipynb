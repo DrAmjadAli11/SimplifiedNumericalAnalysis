{
 "cells": [
  {
   "cell_type": "code",
   "execution_count": 21,
   "id": "dbfe577d",
   "metadata": {},
   "outputs": [
    {
     "name": "stdout",
     "output_type": "stream",
     "text": [
      "The Composite Simpson’s Rule\n",
      "Enter the lower limit of integral: 0\n",
      "Enter the upper limit of integral: 2\n",
      "Enter the number of subintervals n: 12\n",
      "The Approximate Integral = 2.957885258976941\n"
     ]
    }
   ],
   "source": [
    "from numpy import *\t\t\t\t\t\t\t\t\t\t\t\n",
    "\t\t\t\t\t\t\t\t\t\t\t\t\t\t\t\t\t\t\t\t\t\n",
    "def fval(x):\t\t\t\t\t\t\t\t\t\t\n",
    "\t\ty = sqrt(x**2 + 1)\t\t\t\t\t\t\t\n",
    "\t\treturn(y)\t\t\t\t\t\t\t\t\t\t\t\t\t\n",
    "\t\t\t\t\t\t\t\t\t\t\t\t\t\t\t\t\t\t\t\t\t\n",
    "print(\"The Composite Simpson’s Rule\")\t\t\t\n",
    "x0 = float(input(\"Enter the lower limit of integral: \"))\n",
    "xn = float(input(\"Enter the upper limit of integral: \"))\n",
    "n = int(input(\"Enter the number of subintervals n: \"))\n",
    "\t\t\t\t\t\t\t\t\t\t\t\t\t\t\t\t\t\t\t\t\t\n",
    "h = (xn - x0) / n\t\t\t\t\t\t\t\t\t\t\t\t\t\n",
    "fx0 = fval(x0)\t\t\t\t\t\t\t\t\t\t\t\n",
    "fxn = fval(xn)\t\t\t\t\t\t\t\t\t\t\n",
    "I = fx0 + fxn\t\t\t\t\t\t\t\t\t\t\n",
    "xc = x0\t\t\t\t\t\t\t\t\t\t\t\t\t\t\n",
    "sum1 = 0\t\t\t\t\t\t\t\t\t\t\t\t\t\t\n",
    "sum2 = 0\t\t\t\t\t\t\t\t\t\t\t\t\t\t\n",
    "\t\t\t\t\t\t\t\t\t\t\t\t\t\t\t\t\t\t\t\t\t\n",
    "for i in range(1,n):\t\t\t\t\t\t\t\t\n",
    "\t\txc = xc + h\t\t\t\t\t\t\t\t\t\t\n",
    "\t\tfxc = fval(xc)\t\t\t\t\t\t\t\t\t\n",
    "\t\tif i%2 != 0:\t\t\t\t\t\t\t\t\t\n",
    "\t\t\t\tsum1 = sum1 + fxc\t\t\t\t\t\t\t\t\n",
    "\t\telse:\t\t\t\t\t\t\t\t\t\t\t\t\t\t\t\n",
    "\t\t\t\tsum2 = sum2 + fxc\t\t\t\t\t\t\t\n",
    "I = (h / 3) * (I + 4 * sum1 + 2 * sum2)\t\t\n",
    "\t\t\t\t\t\t\t\t\t\t\t\t\t\t\t\t\t\t\t\t\t\n",
    "print(\"The Approximate Integral =\", I)\n",
    "\n"
   ]
  },
  {
   "cell_type": "code",
   "execution_count": null,
   "id": "c79e83a0",
   "metadata": {},
   "outputs": [],
   "source": []
  }
 ],
 "metadata": {
  "kernelspec": {
   "display_name": "Python 3 (ipykernel)",
   "language": "python",
   "name": "python3"
  },
  "language_info": {
   "codemirror_mode": {
    "name": "ipython",
    "version": 3
   },
   "file_extension": ".py",
   "mimetype": "text/x-python",
   "name": "python",
   "nbconvert_exporter": "python",
   "pygments_lexer": "ipython3",
   "version": "3.9.7"
  }
 },
 "nbformat": 4,
 "nbformat_minor": 5
}
